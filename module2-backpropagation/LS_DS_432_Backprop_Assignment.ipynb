{
  "nbformat": 4,
  "nbformat_minor": 0,
  "metadata": {
    "colab": {
      "name": "LS_DS_432_Backprop_Assignment.ipynb",
      "provenance": [],
      "collapsed_sections": []
    },
    "kernelspec": {
      "display_name": "U4S2",
      "language": "python",
      "name": "u4s2"
    },
    "language_info": {
      "codemirror_mode": {
        "name": "ipython",
        "version": 3
      },
      "file_extension": ".py",
      "mimetype": "text/x-python",
      "name": "python",
      "nbconvert_exporter": "python",
      "pygments_lexer": "ipython3",
      "version": "3.7.0"
    },
    "nteract": {
      "version": "0.22.4"
    },
    "accelerator": "GPU"
  },
  "cells": [
    {
      "cell_type": "markdown",
      "metadata": {
        "colab_type": "text",
        "id": "NGGrt9EYlCqY"
      },
      "source": [
        "<img align=\"left\" src=\"https://lever-client-logos.s3.amazonaws.com/864372b1-534c-480e-acd5-9711f850815c-1524247202159.png\" width=200>\n",
        "<br></br>\n",
        "\n",
        "# Backpropagation Practice\n",
        "\n",
        "## *Data Science Unit 4 Sprint 2 Assignment 2*\n",
        "\n",
        "Using TensorFlow Keras, Implement a 3 input, 4 node hidden-layer, 1 output node Multilayer Perceptron on the following dataset:\n",
        "\n",
        "| x1 | x2 | x3 | y |\n",
        "|----|----|----|---|\n",
        "| 0  | 0  | 1  | 0 |\n",
        "| 0  | 1  | 1  | 1 |\n",
        "| 1  | 0  | 1  | 1 |\n",
        "| 0  | 1  | 0  | 1 |\n",
        "| 1  | 0  | 0  | 1 |\n",
        "| 1  | 1  | 1  | 0 |\n",
        "| 0  | 0  | 0  | 0 |\n",
        "\n",
        "If you look at the data you'll notice that the first two columns behave like an XOR gate while the last column is mostly just noise. Remember that creating an XOR gate was what the perceptron was criticized for not being able to learn.\n",
        "\n",
        "This is your \"Hello World!\" of TensorFlow.\n",
        "\n",
        "### Example TensorFlow Starter Code\n",
        "\n",
        "```python \n",
        "from tensorflow.keras.models import Sequential\n",
        "from tensorflow.keras.layers import Dense\n",
        "\n",
        "model = Sequential([\n",
        "    Dense(3, activation='sigmoid', input_dim=2),\n",
        "    Dense(1, activation='sigmoid')\n",
        "])\n",
        "\n",
        "model.compile(optimizer='sgd', loss='binary_crossentropy', metrics=['acc'])\n",
        "\n",
        "results = model.fit(X,y, epochs=100)\n",
        "\n",
        "```\n",
        "\n",
        "### Additional Written Tasks:\n",
        "1. Investigate the various [loss functions](https://www.tensorflow.org/api_docs/python/tf/keras/losses). Which is best suited for the task at hand (predicting 1 / 0) and why? \n",
        "\n",
        "**The loss function most ideal for the task at hand would be BinaryCrossentropy, because it compares the true values with the predicted values (as the name of the loss function suggests, it's for True / False (binary) classification issues). I'd also like to further iterate that because of this, our output layer must have 1 node.**\n",
        "\n",
        "2. What is the difference between a loss function and a metric? Why might we need both in Keras? \n",
        "\n",
        "**A loss function is meant for optimization of the model, whereas the metric is meant for evaluating the model's performance. Both are needed because the loss function's purpose is to optimize the model, and the metric is meant to determine the quality of this optimization in terms of effect on model performance.**\n",
        "\n",
        "3. Investigate the various [optimizers](https://www.tensorflow.org/api_docs/python/tf/keras/optimizers). Stochastic Gradient Descent (`sgd`) is not the learning algorithm dejour anyone. Why is that? What do newer optimizers such as `adam` have to offer? \n",
        "\n",
        "**Stochastic Gradient Descent is not the learning algorithm de jour anymore because when working with larger amounts of data, you're prone to more noise. Because of this, on each epoch, the learning step can go back and forth, wandering around the minimum without ever actually converging into an acceptable solution. SDG, due to the nature of the algorithm, also is computationally expensive, because it performs the update of parameters on each example. Newer optimizers such as Adam are more efficient in terms of computation and memory requirements. According to TensorFlow documentation, they're also invariant to rescaling of gradients diagonally, and more suited for problems that are large in terms of size of data and/or parameters.**"
      ]
    },
    {
      "cell_type": "markdown",
      "metadata": {
        "colab_type": "text",
        "id": "ukk-3RkA7smp"
      },
      "source": [
        "### Build a Tensor Keras Perceptron\n",
        "\n",
        "Try to match the architecture we used on Monday - inputs nodes and one output node. Apply this architecture to the XOR-ish dataset above. \n",
        "\n",
        "After fitting your model answer these questions: \n",
        "\n",
        "Are you able to achieve the same results as a bigger architecture from the first part of the assignment? Why is this disparity the case? What properties of the XOR dataset would cause this disparity? \n",
        "\n",
        "Now extrapolate this behavior on a much larger dataset in terms of features. What kind of architecture decisions could we make to avoid the problems the XOR dataset presents at scale? \n",
        "\n",
        "*Note:* The bias term is baked in by default in the Dense layer."
      ]
    },
    {
      "cell_type": "code",
      "metadata": {
        "colab_type": "code",
        "id": "WsM-mywtC2Ir",
        "outputId": "c803d7bb-8241-466c-e1de-7d732b4aa532",
        "colab": {
          "base_uri": "https://localhost:8080/",
          "height": 73
        }
      },
      "source": [
        "# Import pandas\n",
        "import pandas as pd\n",
        "\n",
        "df = pd.DataFrame({'x1':[0, 0, 1, 0 , 1, 1, 0],\n",
        "                   'x2':[0, 1, 0, 1, 0, 1, 0],\n",
        "                   'x3':[1, 1, 1, 0, 0, 1, 0],\n",
        "                   'y':[0, 1, 1, 1, 1, 0, 0]\n",
        "                  })\n",
        "\n",
        "feats = list(df)[:-1]  # Extracting the x features columns\n",
        "features = df[feats].values  # Getting the values from the features columns\n",
        "target = df['y'].values  # This is our target we're trying to predict\n",
        "\n",
        "print('Features (X values):', feats)  # Making sure features are correct.\n",
        "print(\"Values to predict (y value):\", target)  # Making sure the target we're attempting to predict is correct.\n",
        "\n",
        "print(f'Shape of Features: {features.shape}')  # Confirming shape of features to pass into the input dimensions for our input layer."
      ],
      "execution_count": 1,
      "outputs": [
        {
          "output_type": "stream",
          "text": [
            "Features (X values): ['x1', 'x2', 'x3']\n",
            "Values to predict (y value): [0 1 1 1 1 0 0]\n",
            "Shape of Features: (7, 3)\n"
          ],
          "name": "stdout"
        }
      ]
    },
    {
      "cell_type": "markdown",
      "metadata": {
        "colab_type": "text",
        "id": "OzZQU-O3nC32"
      },
      "source": [
        "#### Building Keras Perceptron (With Hidden Layer)"
      ]
    },
    {
      "cell_type": "code",
      "metadata": {
        "colab_type": "code",
        "id": "nEREYT-3wI1f",
        "outputId": "7347c468-e79a-43ab-e700-5c990832bafd",
        "colab": {
          "base_uri": "https://localhost:8080/",
          "height": 224
        }
      },
      "source": [
        "# Keras Imports\n",
        "from tensorflow.keras.models import Sequential\n",
        "from tensorflow.keras.layers import Dense\n",
        "\n",
        "model1 = Sequential([\n",
        "                    Dense(3, activation='sigmoid', input_dim=features.shape[1], name='InputLayer'),  \n",
        "                    Dense(2, activation='sigmoid', name='HiddenLayer'),  # This is our hidden layer with four nodes.\n",
        "                    Dense(1, activation='sigmoid', name='OutputLayer')  # This will be our output layer. Because this is binary classification, only 1 output is needed.\n",
        "])\n",
        "\n",
        "model1.compile(optimizer='sgd', loss='binary_crossentropy', metrics=['accuracy'])\n",
        "\n",
        "results = model1.fit(features, target, epochs=5)  # Fitting our model (5 iterations / epochs)\n",
        "score1 = model1.evaluate(features, target)  # Note: This will spit out both our loss and our metric (accuracy here)"
      ],
      "execution_count": 2,
      "outputs": [
        {
          "output_type": "stream",
          "text": [
            "Epoch 1/5\n",
            "1/1 [==============================] - 0s 1ms/step - loss: 0.6919 - accuracy: 0.5714\n",
            "Epoch 2/5\n",
            "1/1 [==============================] - 0s 852us/step - loss: 0.6918 - accuracy: 0.5714\n",
            "Epoch 3/5\n",
            "1/1 [==============================] - 0s 798us/step - loss: 0.6918 - accuracy: 0.5714\n",
            "Epoch 4/5\n",
            "1/1 [==============================] - 0s 737us/step - loss: 0.6917 - accuracy: 0.5714\n",
            "Epoch 5/5\n",
            "1/1 [==============================] - 0s 730us/step - loss: 0.6916 - accuracy: 0.5714\n",
            "1/1 [==============================] - 0s 1ms/step - loss: 0.6916 - accuracy: 0.5714\n"
          ],
          "name": "stdout"
        }
      ]
    },
    {
      "cell_type": "code",
      "metadata": {
        "colab_type": "code",
        "id": "fm5ti2c7ldsw",
        "outputId": "0b097fff-3216-47ae-9602-0d4e4d7fd584",
        "colab": {
          "base_uri": "https://localhost:8080/",
          "height": 54
        }
      },
      "source": [
        "print('Model Evaluation:')\n",
        "print(f'Metric is {model1.metrics_names[1]}: {round(score1[1], 3)}')"
      ],
      "execution_count": 3,
      "outputs": [
        {
          "output_type": "stream",
          "text": [
            "Model Evaluation:\n",
            "Metric is accuracy: 0.571\n"
          ],
          "name": "stdout"
        }
      ]
    },
    {
      "cell_type": "markdown",
      "metadata": {
        "colab_type": "text",
        "id": "CNn8MuTurjrc"
      },
      "source": [
        "#### Building Keras Perceptron (Without Hidden Layer)"
      ]
    },
    {
      "cell_type": "code",
      "metadata": {
        "colab_type": "code",
        "id": "klhaPUx3rn1U",
        "outputId": "5f8038f2-268a-4677-847f-4fbb86442b86",
        "colab": {
          "base_uri": "https://localhost:8080/",
          "height": 224
        }
      },
      "source": [
        "model2 = Sequential([\n",
        "                    Dense(3, activation='sigmoid', input_dim=features.shape[1], name='InputLayer'),  # Input layer; same thing as above.\n",
        "                    Dense(1, activation='sigmoid', name='OutputLayer')  # Output layer\n",
        "])\n",
        "\n",
        "model2.compile(optimizer='sgd', loss='binary_crossentropy', metrics=['accuracy'])\n",
        "\n",
        "results = model2.fit(features, target, epochs=5)  # Fitting our model (5 iterations / epochs again)\n",
        "score2 = model2.evaluate(features, target)  # Note: This will spit out both our loss and our metric (accuracy here)"
      ],
      "execution_count": 4,
      "outputs": [
        {
          "output_type": "stream",
          "text": [
            "Epoch 1/5\n",
            "1/1 [==============================] - 0s 1ms/step - loss: 0.8260 - accuracy: 0.4286\n",
            "Epoch 2/5\n",
            "1/1 [==============================] - 0s 1ms/step - loss: 0.8249 - accuracy: 0.4286\n",
            "Epoch 3/5\n",
            "1/1 [==============================] - 0s 2ms/step - loss: 0.8237 - accuracy: 0.4286\n",
            "Epoch 4/5\n",
            "1/1 [==============================] - 0s 725us/step - loss: 0.8225 - accuracy: 0.4286\n",
            "Epoch 5/5\n",
            "1/1 [==============================] - 0s 837us/step - loss: 0.8214 - accuracy: 0.4286\n",
            "1/1 [==============================] - 0s 897us/step - loss: 0.8203 - accuracy: 0.4286\n"
          ],
          "name": "stdout"
        }
      ]
    },
    {
      "cell_type": "code",
      "metadata": {
        "colab_type": "code",
        "id": "7FEbEEdCsuzj",
        "outputId": "02811577-0b41-4dc6-e96d-7eb16b2c5a99",
        "colab": {
          "base_uri": "https://localhost:8080/",
          "height": 54
        }
      },
      "source": [
        "print('Model Evaluation:')\n",
        "print(f'Metric is {model2.metrics_names[1]}: {round(score2[1], 3)}')"
      ],
      "execution_count": 5,
      "outputs": [
        {
          "output_type": "stream",
          "text": [
            "Model Evaluation:\n",
            "Metric is accuracy: 0.429\n"
          ],
          "name": "stdout"
        }
      ]
    },
    {
      "cell_type": "markdown",
      "metadata": {
        "colab_type": "text",
        "id": "t2Z4McKEtT__"
      },
      "source": [
        "#### Evaluations For Both Models"
      ]
    },
    {
      "cell_type": "code",
      "metadata": {
        "colab_type": "code",
        "id": "9uVRIjaxtXvg",
        "outputId": "9fbe51b8-4875-4268-8e9a-639a375a79aa",
        "colab": {
          "base_uri": "https://localhost:8080/",
          "height": 73
        }
      },
      "source": [
        "print(f'Metric is {model2.metrics_names[1]}: {round(score2[1], 3)} (Without Hidden Layer - Basic Perceptron)')\n",
        "print(f'Metric is {model1.metrics_names[1]}: {round(score1[1], 3)} (With Hidden Layer - Multi-Class Perceptron)')\n",
        "\n",
        "\n",
        "# Print results of which model performed better.\n",
        "if score2[1] > score1[1]:\n",
        "  print('(Basic Perceptron Outperformed Multi-Class Perceptron)')\n",
        "elif score2[1] == score1[1]:\n",
        "  print('(Both Models Performed Equally)')\n",
        "else:\n",
        "  print('(Multi-Class Perceptron Outperformed Basic Perceptron)')"
      ],
      "execution_count": 6,
      "outputs": [
        {
          "output_type": "stream",
          "text": [
            "Metric is accuracy: 0.429 (Without Hidden Layer - Basic Perceptron)\n",
            "Metric is accuracy: 0.571 (With Hidden Layer - Multi-Class Perceptron)\n",
            "(Multi-Class Perceptron Outperformed Basic Perceptron)\n"
          ],
          "name": "stdout"
        }
      ]
    },
    {
      "cell_type": "markdown",
      "metadata": {
        "colab_type": "text",
        "id": "u57EC_5xm4fW"
      },
      "source": [
        "#### Answered Questions"
      ]
    },
    {
      "cell_type": "markdown",
      "metadata": {
        "colab_type": "text",
        "id": "8q4PgaMWnNOT"
      },
      "source": [
        "Are you able to achieve the same results as a bigger architecture from the first part of the assignment? Why is this disparity the case? What properties of the XOR dataset would cause this disparity?\n",
        "\n",
        "**By adding a hidden layer, I was able to achieve better results. This is because of the nature of XOR gates. XOR stands for exclusive or, meaning that the true output is only true if only *one* of the inputs to the gate is true. This is related to linear seperability, and for a long time was a common criticism of perceptrons / neural networks as a whole. This problem was solved with the implementation of multi-layered perceptrons.**\n",
        "\n",
        "Now extrapolate this behavior on a much larger dataset in terms of features. What kind of architecture decisions could we make to avoid the problems the XOR dataset presents at scale?\n",
        "\n",
        "**Again, XOR gates implement an exclusive or (hence the name), meaning that a true output results if one (ONLY one) of the inputs to the gate is true. This can be solved by having multiple layers. Thus, the primary architecture decisions would be the number of hidden layers, as well as the number of nodes within those layers.**"
      ]
    },
    {
      "cell_type": "markdown",
      "metadata": {
        "colab_type": "text",
        "id": "8b-r70o8p2Dm"
      },
      "source": [
        "## Try building/training a more complex MLP on a bigger dataset.\n",
        "\n",
        "Use TensorFlow Keras & the [MNIST dataset](http://yann.lecun.com/exdb/mnist/) to build the canonical handwriting digit recognizer and see what kind of accuracy you can achieve. \n",
        "\n",
        "If you need inspiration, the Internet is chalk-full of tutorials, but I want you to see how far you can get on your own first. I've linked to the original MNIST dataset above but it will probably be easier to download data through a neural network library. If you reference outside resources make sure you understand every line of code that you're using from other sources, and share with your fellow students helpful resources that you find.\n",
        "\n",
        "\n",
        "### Parts\n",
        "1. Gathering & Transforming the Data\n",
        "2. Making MNIST a Binary Problem\n",
        "3. Estimating your Neural Network (the part you focus on)"
      ]
    },
    {
      "cell_type": "markdown",
      "metadata": {
        "colab_type": "text",
        "id": "ey8zcb2i7sm6"
      },
      "source": [
        "### Gathering the Data \n",
        "\n",
        "`keras` has a handy method to pull the mnist dataset for you. You'll notice that each observation is a 28x28 arrary which represents an image. Although most Neural Network frameworks can handle higher dimensional data, that is more overhead than necessary for us. We need to flatten the image to one long row which will be 784 values (28X28). Basically, you will be appending each row to one another to make on really long row. "
      ]
    },
    {
      "cell_type": "code",
      "metadata": {
        "colab_type": "code",
        "id": "1j7GP6TG7sm7",
        "colab": {}
      },
      "source": [
        "import numpy as np\n",
        "from tensorflow.keras.datasets import mnist\n",
        "from tensorflow.keras.utils import to_categorical"
      ],
      "execution_count": 0,
      "outputs": []
    },
    {
      "cell_type": "code",
      "metadata": {
        "colab_type": "code",
        "id": "dvb7XHMo7snE",
        "colab": {}
      },
      "source": [
        "# Input image dimensions\n",
        "img_rows, img_cols = 28, 28"
      ],
      "execution_count": 0,
      "outputs": []
    },
    {
      "cell_type": "code",
      "metadata": {
        "colab_type": "code",
        "id": "umgju9Wk7snN",
        "colab": {
          "base_uri": "https://localhost:8080/",
          "height": 54
        },
        "outputId": "bf054081-1b3a-474e-a715-b4f3d1d8d9e3"
      },
      "source": [
        "# Load Data & Train-Test-Split\n",
        "(X_train, y_train), (X_test, y_test) = mnist.load_data()"
      ],
      "execution_count": 9,
      "outputs": [
        {
          "output_type": "stream",
          "text": [
            "Downloading data from https://storage.googleapis.com/tensorflow/tf-keras-datasets/mnist.npz\n",
            "11493376/11490434 [==============================] - 0s 0us/step\n"
          ],
          "name": "stdout"
        }
      ]
    },
    {
      "cell_type": "code",
      "metadata": {
        "colab_type": "code",
        "id": "rk2-SMoq7snY",
        "colab": {}
      },
      "source": [
        "# Reshaping data in accordance to image dimensions\n",
        "X_train = X_train.reshape(X_train.shape[0], img_rows * img_cols)\n",
        "X_test = X_test.reshape(X_test.shape[0], img_rows * img_cols)\n",
        "\n",
        "# Normalize Our Data\n",
        "X_train = X_train / 255\n",
        "X_test = X_test / 255"
      ],
      "execution_count": 0,
      "outputs": []
    },
    {
      "cell_type": "code",
      "metadata": {
        "colab_type": "code",
        "id": "CpiTx0EQ7snh",
        "outputId": "38fb9018-053d-4c2a-a915-5fb246947848",
        "colab": {
          "base_uri": "https://localhost:8080/",
          "height": 35
        }
      },
      "source": [
        "# Now the data should be in a format you're more familiar with\n",
        "X_train.shape"
      ],
      "execution_count": 11,
      "outputs": [
        {
          "output_type": "execute_result",
          "data": {
            "text/plain": [
              "(60000, 784)"
            ]
          },
          "metadata": {
            "tags": []
          },
          "execution_count": 11
        }
      ]
    },
    {
      "cell_type": "markdown",
      "metadata": {
        "colab_type": "text",
        "id": "GGD_fnZA7snu"
      },
      "source": [
        "### Making MNIST a Binary Problem \n",
        "MNIST is multiclass classification problem; however we haven't covered all the necessary techniques to handle this yet. You would need to one-hot encode the target, use a different loss metric, and use softmax activations for the last layer. This is all stuff we'll cover later this week, but let us simplify the problem for now: Zero or all else."
      ]
    },
    {
      "cell_type": "code",
      "metadata": {
        "colab_type": "code",
        "id": "XIfqhU_f7snw",
        "colab": {}
      },
      "source": [
        "import numpy as np\n",
        "\n",
        "y_temp = np.zeros(y_train.shape)\n",
        "y_temp[np.where(y_train == 0.0)[0]] = 1\n",
        "y_train = y_temp\n",
        "\n",
        "y_temp = np.zeros(y_test.shape)\n",
        "y_temp[np.where(y_test == 0.0)[0]] = 1\n",
        "y_test = y_temp"
      ],
      "execution_count": 0,
      "outputs": []
    },
    {
      "cell_type": "code",
      "metadata": {
        "colab_type": "code",
        "id": "h7nObosn7sn8",
        "outputId": "47767f81-3afd-4f1b-e589-72ab546f7af1",
        "colab": {
          "base_uri": "https://localhost:8080/",
          "height": 35
        }
      },
      "source": [
        "# Binary target to work with.\n",
        "y_train"
      ],
      "execution_count": 13,
      "outputs": [
        {
          "output_type": "execute_result",
          "data": {
            "text/plain": [
              "array([0., 1., 0., ..., 0., 0., 0.])"
            ]
          },
          "metadata": {
            "tags": []
          },
          "execution_count": 13
        }
      ]
    },
    {
      "cell_type": "markdown",
      "metadata": {
        "colab_type": "text",
        "id": "yaHvxlNS7soF"
      },
      "source": [
        "### Estimating Your Net"
      ]
    },
    {
      "cell_type": "code",
      "metadata": {
        "colab_type": "code",
        "id": "5MOPtYdk1HgA",
        "outputId": "62e61a5f-220a-413a-e296-e11c4c5e95ff",
        "colab": {
          "base_uri": "https://localhost:8080/",
          "height": 54
        }
      },
      "source": [
        "from sklearn.model_selection import RandomizedSearchCV\n",
        "\n",
        "model3 = Sequential([\n",
        "                     Dense(6000, activation='relu', input_dim=X_train.shape[1]),  # Input layer\n",
        "                     Dense(10, activation='relu'),  # Hidden layer number 1 \n",
        "                     Dense(5, activation='relu'),  # Hidden layer number 2\n",
        "                     Dense(1, activation='sigmoid')  # Output layer\n",
        "])\n",
        "\n",
        "model3.compile(optimizer='adam', loss='binary_crossentropy', metrics=['accuracy'])  # Compile\n",
        "\n",
        "model3.fit(X_train, y_train)\n",
        "score3 = model3.evaluate(X_test, y_test)"
      ],
      "execution_count": 14,
      "outputs": [
        {
          "output_type": "stream",
          "text": [
            "1875/1875 [==============================] - 4s 2ms/step - loss: 0.0268 - accuracy: 0.9917\n",
            "313/313 [==============================] - 1s 2ms/step - loss: 0.0131 - accuracy: 0.9969\n"
          ],
          "name": "stdout"
        }
      ]
    },
    {
      "cell_type": "code",
      "metadata": {
        "colab_type": "code",
        "id": "AXEHG8DCx5be",
        "outputId": "f5ddf9d5-6541-4542-8bdf-6cb5d240f7e1",
        "colab": {
          "base_uri": "https://localhost:8080/",
          "height": 54
        }
      },
      "source": [
        "print('For MNIST Dataset Neural Network:')\n",
        "print(f'Metric ({model3.metrics_names[1]}): {score3[1] * 100}%')"
      ],
      "execution_count": 15,
      "outputs": [
        {
          "output_type": "stream",
          "text": [
            "For MNIST Dataset Neural Network:\n",
            "Metric (accuracy): 99.69000220298767%\n"
          ],
          "name": "stdout"
        }
      ]
    },
    {
      "cell_type": "markdown",
      "metadata": {
        "id": "xdAdYS2ywPBJ",
        "colab_type": "text"
      },
      "source": [
        "# Multi-Class Classification (Stretch Goal)"
      ]
    },
    {
      "cell_type": "code",
      "metadata": {
        "id": "UW7ivIOlTrAi",
        "colab_type": "code",
        "colab": {}
      },
      "source": [
        "# Build function\n",
        "\n",
        "from tensorflow.keras.wrappers.scikit_learn import KerasClassifier\n",
        "from tensorflow.keras.layers import Dropout, Flatten\n",
        "\n",
        "def create_model(n_neurons_hidden=50, optimizer='adam', activation='relu', dropout_rate=0.0):\n",
        "\n",
        "  # Instantiate Model\n",
        "  model = Sequential()\n",
        "\n",
        "  # Flatten/Input Layer.\n",
        "  model.add(Dense(784, activation=activation, input_dim=X_train.shape[1], name='Input'))\n",
        "  model.add(Flatten(input_shape=(28, 28)))\n",
        "\n",
        "  # Hidden Layer / Dropout\n",
        "  model.add(Dense(n_neurons_hidden, activation=activation, name='Hidden'))\n",
        "  model.add(Dropout(dropout_rate))\n",
        "\n",
        "  # Output Layer\n",
        "  model.add(Dense(10, activation='softmax', name='OutputLayer'))  # Using 10 because there are 10 total classifications possible.\n",
        "\n",
        "  # Compile our model\n",
        "  model.compile(optimizer=optimizer, loss='sparse_categorical_crossentropy', metrics=['accuracy'])\n",
        "\n",
        "  return model"
      ],
      "execution_count": 0,
      "outputs": []
    },
    {
      "cell_type": "code",
      "metadata": {
        "id": "vw0AqneqWC4Z",
        "colab_type": "code",
        "outputId": "e9e5a07c-751a-4812-8e13-79f718d93652",
        "colab": {
          "base_uri": "https://localhost:8080/",
          "height": 1000
        }
      },
      "source": [
        "model = KerasClassifier(build_fn=create_model, verbose=True)\n",
        "\n",
        "# I made this relatively simple since I'm doing it all at once, just as a stretch goal, for time consumption and computational resources.\n",
        "\n",
        "parameters = {\n",
        "\n",
        "              'activation': ['relu', 'softmax'],\n",
        "              'optimizer': ['adam', 'nadam', 'adamax'],\n",
        "              'epochs': [5, 10, 25],\n",
        "              'batch_size': [25, 50, 75, 100, 250],\n",
        "              'n_neurons_hidden': [10, 25, 50, 75, 100],\n",
        "              'dropout_rate': [0, 0.001, 0.01, 0.1]\n",
        "             }\n",
        "\n",
        "rscv = RandomizedSearchCV(model, parameters, n_jobs=-1, cv=3)\n",
        "randomcv_results = rscv.fit(X_train, y_train, validation_data=(X_test, y_test))  # Validating against test set for time (also why I didn't even barely begin to go into hyperparameter tuning - that's for Thursday ;)). Otherwise would go back and evaluate by using the build function w/ the best parameters given here."
      ],
      "execution_count": 17,
      "outputs": [
        {
          "output_type": "stream",
          "text": [
            "/usr/local/lib/python3.6/dist-packages/joblib/externals/loky/process_executor.py:706: UserWarning: A worker stopped while some jobs were given to the executor. This can be caused by a too short worker timeout or by a memory leak.\n",
            "  \"timeout or by a memory leak.\", UserWarning\n"
          ],
          "name": "stderr"
        },
        {
          "output_type": "stream",
          "text": [
            "Epoch 1/25\n",
            "240/240 [==============================] - 1s 4ms/step - loss: 0.0555 - accuracy: 0.9851 - val_loss: 0.0124 - val_accuracy: 0.9960\n",
            "Epoch 2/25\n",
            "240/240 [==============================] - 1s 3ms/step - loss: 0.0115 - accuracy: 0.9965 - val_loss: 0.0106 - val_accuracy: 0.9970\n",
            "Epoch 3/25\n",
            "240/240 [==============================] - 1s 3ms/step - loss: 0.0066 - accuracy: 0.9979 - val_loss: 0.0089 - val_accuracy: 0.9975\n",
            "Epoch 4/25\n",
            "240/240 [==============================] - 1s 3ms/step - loss: 0.0047 - accuracy: 0.9984 - val_loss: 0.0118 - val_accuracy: 0.9964\n",
            "Epoch 5/25\n",
            "240/240 [==============================] - 1s 3ms/step - loss: 0.0029 - accuracy: 0.9991 - val_loss: 0.0075 - val_accuracy: 0.9980\n",
            "Epoch 6/25\n",
            "240/240 [==============================] - 1s 3ms/step - loss: 0.0019 - accuracy: 0.9995 - val_loss: 0.0097 - val_accuracy: 0.9975\n",
            "Epoch 7/25\n",
            "240/240 [==============================] - 1s 3ms/step - loss: 0.0016 - accuracy: 0.9995 - val_loss: 0.0084 - val_accuracy: 0.9978\n",
            "Epoch 8/25\n",
            "240/240 [==============================] - 1s 3ms/step - loss: 0.0016 - accuracy: 0.9994 - val_loss: 0.0100 - val_accuracy: 0.9976\n",
            "Epoch 9/25\n",
            "240/240 [==============================] - 1s 3ms/step - loss: 0.0013 - accuracy: 0.9996 - val_loss: 0.0099 - val_accuracy: 0.9977\n",
            "Epoch 10/25\n",
            "240/240 [==============================] - 1s 4ms/step - loss: 7.0265e-04 - accuracy: 0.9998 - val_loss: 0.0172 - val_accuracy: 0.9953\n",
            "Epoch 11/25\n",
            "240/240 [==============================] - 1s 3ms/step - loss: 7.3744e-04 - accuracy: 0.9998 - val_loss: 0.0128 - val_accuracy: 0.9973\n",
            "Epoch 12/25\n",
            "240/240 [==============================] - 1s 3ms/step - loss: 0.0015 - accuracy: 0.9996 - val_loss: 0.0100 - val_accuracy: 0.9979\n",
            "Epoch 13/25\n",
            "240/240 [==============================] - 1s 4ms/step - loss: 0.0011 - accuracy: 0.9997 - val_loss: 0.0114 - val_accuracy: 0.9972\n",
            "Epoch 14/25\n",
            "240/240 [==============================] - 1s 3ms/step - loss: 3.1914e-04 - accuracy: 0.9999 - val_loss: 0.0113 - val_accuracy: 0.9976\n",
            "Epoch 15/25\n",
            "240/240 [==============================] - 1s 4ms/step - loss: 0.0015 - accuracy: 0.9994 - val_loss: 0.0126 - val_accuracy: 0.9975\n",
            "Epoch 16/25\n",
            "240/240 [==============================] - 1s 3ms/step - loss: 0.0020 - accuracy: 0.9993 - val_loss: 0.0117 - val_accuracy: 0.9973\n",
            "Epoch 17/25\n",
            "240/240 [==============================] - 1s 3ms/step - loss: 7.3097e-04 - accuracy: 0.9998 - val_loss: 0.0104 - val_accuracy: 0.9979\n",
            "Epoch 18/25\n",
            "240/240 [==============================] - 1s 4ms/step - loss: 3.4006e-04 - accuracy: 0.9999 - val_loss: 0.0114 - val_accuracy: 0.9980\n",
            "Epoch 19/25\n",
            "240/240 [==============================] - 1s 3ms/step - loss: 2.0245e-05 - accuracy: 1.0000 - val_loss: 0.0113 - val_accuracy: 0.9981\n",
            "Epoch 20/25\n",
            "240/240 [==============================] - 1s 4ms/step - loss: 9.6701e-06 - accuracy: 1.0000 - val_loss: 0.0114 - val_accuracy: 0.9982\n",
            "Epoch 21/25\n",
            "240/240 [==============================] - 1s 3ms/step - loss: 6.9072e-06 - accuracy: 1.0000 - val_loss: 0.0114 - val_accuracy: 0.9981\n",
            "Epoch 22/25\n",
            "240/240 [==============================] - 1s 3ms/step - loss: 5.5231e-06 - accuracy: 1.0000 - val_loss: 0.0115 - val_accuracy: 0.9982\n",
            "Epoch 23/25\n",
            "240/240 [==============================] - 1s 3ms/step - loss: 4.3334e-06 - accuracy: 1.0000 - val_loss: 0.0116 - val_accuracy: 0.9982\n",
            "Epoch 24/25\n",
            "240/240 [==============================] - 1s 3ms/step - loss: 3.8663e-06 - accuracy: 1.0000 - val_loss: 0.0117 - val_accuracy: 0.9983\n",
            "Epoch 25/25\n",
            "240/240 [==============================] - 1s 3ms/step - loss: 3.0537e-06 - accuracy: 1.0000 - val_loss: 0.0118 - val_accuracy: 0.9983\n"
          ],
          "name": "stdout"
        }
      ]
    },
    {
      "cell_type": "code",
      "metadata": {
        "id": "2M3qajPGhXY7",
        "colab_type": "code",
        "outputId": "d859acfd-811d-4b87-ad4d-71b2b521171f",
        "colab": {
          "base_uri": "https://localhost:8080/",
          "height": 186
        }
      },
      "source": [
        "# Print the results\n",
        "\n",
        "epochs = randomcv_results.best_params_['epochs']\n",
        "batch_size = randomcv_results.best_params_['batch_size']\n",
        "n_neurons_hidden = randomcv_results.best_params_['n_neurons_hidden']\n",
        "dropout_rate = randomcv_results.best_params_['dropout_rate']\n",
        "activation = randomcv_results.best_params_['activation']\n",
        "optimizer = randomcv_results.best_params_['optimizer']\n",
        "\n",
        "print('Multi-Class MNIST Predictions (RandomizedSearchCV):')\n",
        "print(f'Best Accuracy: {randomcv_results.best_score_ * 100}% achieved with parameters:')\n",
        "print('===================================================')\n",
        "print(f'Epochs: {epochs}')\n",
        "print(f'Batch Size: {batch_size}')\n",
        "print(f'Neurons in Hidden Layers: {n_neurons_hidden}')\n",
        "print(f'Dropout Rate: {dropout_rate}')\n",
        "print(f'Activation Function: {activation}')\n",
        "print(f'Optimizer: {optimizer}')"
      ],
      "execution_count": 18,
      "outputs": [
        {
          "output_type": "stream",
          "text": [
            "Multi-Class MNIST Predictions (RandomizedSearchCV):\n",
            "Best Accuracy: 99.75333412488303% achieved with parameters:\n",
            "===================================================\n",
            "Epochs: 25\n",
            "Batch Size: 250\n",
            "Neurons in Hidden Layers: 50\n",
            "Dropout Rate: 0.001\n",
            "Activation Function: relu\n",
            "Optimizer: nadam\n"
          ],
          "name": "stdout"
        }
      ]
    },
    {
      "cell_type": "markdown",
      "metadata": {
        "colab_type": "text",
        "id": "FwlRJSfBlCvy"
      },
      "source": [
        "## Stretch Goals: \n",
        "\n",
        "- Make MNIST a multiclass problem using cross entropy & soft-max ✔\n",
        "- Implement Cross Validation model evaluation on your MNIST implementation ✔\n",
        "- Research different [Gradient Descent Based Optimizers](https://keras.io/optimizers/) ✔\n",
        " - [Siraj Raval the evolution of gradient descent](https://www.youtube.com/watch?v=nhqo0u1a6fw) ✔\n",
        "- Build a housing price estimation model using a neural network. How does its accuracy compare with the regression models that we fit earlier on in class? ✔(*)\n",
        "\n",
        "***While I did not test this, I don't believe its accuracy would be on par with that of a standard predictive model, because neural networks are for non-linear problems, whereas housing prices are more linear than you'd likely want to use a neural network for. Even if you were able to, the amount of time and computational resources required would be an irresponsible choice.**"
      ]
    }
  ]
}