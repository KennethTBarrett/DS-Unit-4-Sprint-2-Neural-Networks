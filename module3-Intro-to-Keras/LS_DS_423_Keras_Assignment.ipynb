{
  "nbformat": 4,
  "nbformat_minor": 0,
  "metadata": {
    "colab": {
      "name": "LS_DS_423_Keras_Assignment.ipynb",
      "provenance": []
    },
    "kernelspec": {
      "display_name": "U4S2",
      "language": "python",
      "name": "u4s2"
    },
    "language_info": {
      "codemirror_mode": {
        "name": "ipython",
        "version": 3
      },
      "file_extension": ".py",
      "mimetype": "text/x-python",
      "name": "python",
      "nbconvert_exporter": "python",
      "pygments_lexer": "ipython3",
      "version": "3.7.0"
    }
  },
  "cells": [
    {
      "cell_type": "markdown",
      "metadata": {
        "colab_type": "text",
        "id": "pBQsZEJmubLs"
      },
      "source": [
        "<img align=\"left\" src=\"https://lever-client-logos.s3.amazonaws.com/864372b1-534c-480e-acd5-9711f850815c-1524247202159.png\" width=200>\n",
        "<br></br>\n",
        "\n",
        "# Neural Network Framework (Keras)\n",
        "\n",
        "## *Data Science Unit 4 Sprint 2 Assignment 3*\n",
        "\n",
        "## Use the Keras Library to build a Multi-Layer Perceptron Model on the Boston Housing dataset\n",
        "\n",
        "- The Boston Housing dataset comes with the Keras library so use Keras to import it into your notebook. ✔️\n",
        "- Normalize the data (all features should have roughly the same scale) ✔️\n",
        "- Import the type of model and layers that you will need from Keras. ✔️\n",
        "- Instantiate a model object and use `model.add()` to add layers to your model ✔️\n",
        "- Since this is a regression model you will have a single output node in the final layer. ✔️\n",
        "- Use activation functions that are appropriate for this task ✔️\n",
        "- Compile your model ✔️\n",
        "- Fit your model and report its accuracy in terms of Mean Squared Error ✔️\n",
        "- Use the history object that is returned from model.fit to make graphs of the model's loss or train/validation accuracies by epoch. ✔️\n",
        "- Run this same data through a linear regression model. Which achieves higher accuracy? ✔️ **- The Linear Regression Model Achieved Higher Accuracy**\n",
        "- Do a little bit of feature engineering and see how that affects your neural network model. (you will need to change your model to accept more inputs)\n",
        "- After feature engineering, which model sees a greater accuracy boost due to the new features?"
      ]
    },
    {
      "cell_type": "code",
      "metadata": {
        "colab_type": "code",
        "id": "8NLTAR87uYJ-",
        "colab": {},
        "outputId": "7c89a9c5-3b7f-4295-8468-cf11da03653c"
      },
      "source": [
        "# Load in the boston housing data and train-test-split\n",
        "from tensorflow.keras.datasets import boston_housing\n",
        "\n",
        "(X_train, y_train), (X_test, y_test) = boston_housing.load_data()\n",
        "\n",
        "print('Train Shapes:')\n",
        "print(f'X: {X_train.shape}')\n",
        "print(f'y: {y_train.shape}')\n",
        "\n",
        "print()\n",
        "\n",
        "print('Test Shapes:')\n",
        "print(f'X: {X_test.shape}')\n",
        "print(f'y: {y_test.shape}')"
      ],
      "execution_count": 0,
      "outputs": [
        {
          "output_type": "stream",
          "text": [
            "Train Shapes:\n",
            "X: (404, 13)\n",
            "y: (404,)\n",
            "\n",
            "Test Shapes:\n",
            "X: (102, 13)\n",
            "y: (102,)\n"
          ],
          "name": "stdout"
        }
      ]
    },
    {
      "cell_type": "code",
      "metadata": {
        "id": "qj0deHa9PHp4",
        "colab_type": "code",
        "colab": {},
        "outputId": "58a4222c-ded8-4af0-889f-191a7d9b6877"
      },
      "source": [
        "from sklearn.preprocessing import StandardScaler\n",
        "\n",
        "scaler = StandardScaler()\n",
        "scaler.fit(X_train)\n",
        "\n",
        "X_train = scaler.transform(X_train)\n",
        "X_test = scaler.transform(X_test)\n",
        "\n",
        "print(f'X_train shape: {X_train.shape}')\n",
        "print(f'X_test shape: {X_test.shape}')"
      ],
      "execution_count": 0,
      "outputs": [
        {
          "output_type": "stream",
          "text": [
            "X_train shape: (404, 13)\n",
            "X_test shape: (102, 13)\n"
          ],
          "name": "stdout"
        }
      ]
    },
    {
      "cell_type": "code",
      "metadata": {
        "id": "SKDZni93PHqH",
        "colab_type": "code",
        "colab": {}
      },
      "source": [
        "from tensorflow.keras.models import Sequential  # Our model\n",
        "from tensorflow.keras.layers import Dense  # For our layers.\n",
        "\n",
        "\n",
        "model1 = Sequential()  # Instantiate the model\n",
        "\n",
        "# Adding six total layers. Using rectified linear units until our output layer, where we will use sigmoid.\n",
        "# This is where we are actually building the model.\n",
        "model1.add(Dense(50, activation='relu', input_dim=13, name='InputLayer'))\n",
        "model1.add(Dense(25, activation='relu', name='Hidden1'))\n",
        "model1.add(Dense(15, activation='relu', name='Hidden2'))\n",
        "model1.add(Dense(5, activation='relu', name='Hidden3'))\n",
        "model1.add(Dense(3, activation='relu', name='Hidden4'))\n",
        "model1.add(Dense(1, activation='sigmoid', name='OutputLayer'))\n",
        "\n",
        "model1.compile(optimizer='adam', loss='mean_squared_error', metrics=['mean_squared_error'])  # Compile our model.\n",
        "\n",
        "model1fit = model1.fit(X_train, y_train, epochs=250, verbose=False)  # Fit our model to training data, 250 iterations / epochs"
      ],
      "execution_count": 0,
      "outputs": []
    },
    {
      "cell_type": "code",
      "metadata": {
        "id": "7beYi0PSPHqR",
        "colab_type": "code",
        "colab": {},
        "outputId": "1ac0561c-f681-4409-a59d-8557830e09fb"
      },
      "source": [
        "score1 = model1.evaluate(X_test, y_test, verbose=False)\n",
        "print(f'MSE for Neural Network: {score1[1]}')"
      ],
      "execution_count": 0,
      "outputs": [
        {
          "output_type": "stream",
          "text": [
            "MSE for Neural Network: 570.7009887695312\n"
          ],
          "name": "stdout"
        }
      ]
    },
    {
      "cell_type": "code",
      "metadata": {
        "id": "KBWhphfsPHqc",
        "colab_type": "code",
        "colab": {},
        "outputId": "da46d075-efcd-4878-a110-57598d4e5faa"
      },
      "source": [
        "# We're going to plot our model performance based upon our metric + number of epochs.\n",
        "\n",
        "import matplotlib.pyplot as plt\n",
        "\n",
        "plt.plot(model1fit.history['mean_squared_error'])\n",
        "plt.title('Model Performance (Boston Housing Dataset)')\n",
        "plt.xlabel('Number of Epochs')\n",
        "plt.ylabel('Mean Squared Error')\n",
        "plt.xlim(-5, 100)\n",
        "plt.show();"
      ],
      "execution_count": 0,
      "outputs": [
        {
          "output_type": "display_data",
          "data": {
            "image/png": "[encoded data removed]",
            "text/plain": [
              "<Figure size 432x288 with 1 Axes>"
            ]
          },
          "metadata": {
            "tags": [],
            "needs_background": "light"
          }
        }
      ]
    },
    {
      "cell_type": "code",
      "metadata": {
        "id": "8e8L3uKmPHqk",
        "colab_type": "code",
        "colab": {},
        "outputId": "882214a6-3e33-418e-d063-28f8cffc46e5"
      },
      "source": [
        "# Let's do it again, this time with linear regression.\n",
        "from sklearn.linear_model import LinearRegression\n",
        "from sklearn.metrics import mean_squared_error\n",
        "\n",
        "linreg = LinearRegression()  # Instantiate\n",
        "\n",
        "linreg.fit(X_train, y_train)  # Fit the Model\n",
        "y_pred = linreg.predict(X_test)  # Make Predictions\n",
        "\n",
        "print(f'MSE for Linear Regression: {mean_squared_error(y_test, y_pred)}')  # Evaluate our model."
      ],
      "execution_count": 0,
      "outputs": [
        {
          "output_type": "stream",
          "text": [
            "MSE for Linear Regression: 23.195599256422984\n"
          ],
          "name": "stdout"
        }
      ]
    },
    {
      "cell_type": "code",
      "metadata": {
        "id": "PcgOzcHEPHqu",
        "colab_type": "code",
        "colab": {},
        "outputId": "ca13e02f-b624-49cc-8ce5-1a1792586c61"
      },
      "source": [
        "import pandas as pd\n",
        "\n",
        "boston = boston_housing.load_data()\n",
        "df = pd.DataFrame.from_dict(boston)\n",
        "\n",
        "df.head()\n",
        "\n",
        "# Ok... Now I'm confused. How would I import assign column names for feature engineering?"
      ],
      "execution_count": 0,
      "outputs": [
        {
          "output_type": "execute_result",
          "data": {
            "text/html": [
              "<div>\n",
              "<style scoped>\n",
              "    .dataframe tbody tr th:only-of-type {\n",
              "        vertical-align: middle;\n",
              "    }\n",
              "\n",
              "    .dataframe tbody tr th {\n",
              "        vertical-align: top;\n",
              "    }\n",
              "\n",
              "    .dataframe thead th {\n",
              "        text-align: right;\n",
              "    }\n",
              "</style>\n",
              "<table border=\"1\" class=\"dataframe\">\n",
              "  <thead>\n",
              "    <tr style=\"text-align: right;\">\n",
              "      <th></th>\n",
              "      <th>0</th>\n",
              "      <th>1</th>\n",
              "    </tr>\n",
              "  </thead>\n",
              "  <tbody>\n",
              "    <tr>\n",
              "      <th>0</th>\n",
              "      <td>[[1.23247, 0.0, 8.14, 0.0, 0.538, 6.142, 91.7,...</td>\n",
              "      <td>[15.2, 42.3, 50.0, 21.1, 17.7, 18.5, 11.3, 15....</td>\n",
              "    </tr>\n",
              "    <tr>\n",
              "      <th>1</th>\n",
              "      <td>[[18.0846, 0.0, 18.1, 0.0, 0.679, 6.434, 100.0...</td>\n",
              "      <td>[7.2, 18.8, 19.0, 27.0, 22.2, 24.5, 31.2, 22.9...</td>\n",
              "    </tr>\n",
              "  </tbody>\n",
              "</table>\n",
              "</div>"
            ],
            "text/plain": [
              "                                                   0  \\\n",
              "0  [[1.23247, 0.0, 8.14, 0.0, 0.538, 6.142, 91.7,...   \n",
              "1  [[18.0846, 0.0, 18.1, 0.0, 0.679, 6.434, 100.0...   \n",
              "\n",
              "                                                   1  \n",
              "0  [15.2, 42.3, 50.0, 21.1, 17.7, 18.5, 11.3, 15....  \n",
              "1  [7.2, 18.8, 19.0, 27.0, 22.2, 24.5, 31.2, 22.9...  "
            ]
          },
          "metadata": {
            "tags": []
          },
          "execution_count": 7
        }
      ]
    },
    {
      "cell_type": "markdown",
      "metadata": {
        "colab_type": "text",
        "id": "SfcFnOONyuNm"
      },
      "source": [
        "## Use the Keras Library to build an image recognition network using the Fashion-MNIST dataset (also comes with keras)\n",
        "\n",
        "- Load and preprocess the image data similar to how we preprocessed the MNIST data in class. ✔️\n",
        "- Make sure to one-hot encode your category labels ✔️\n",
        "- The number of nodes in your output layer should equal the number of classes you want to predict for Fashion-MNIST. ✔️\n",
        "- Try different hyperparameters. What is the highest accuracy that you are able to achieve. ✔️\n",
        "- Use the history object that is returned from model.fit to make graphs of the model's loss or train/validation accuracies by epoch. ✔️\n",
        "- Remember that neural networks fall prey to randomness so you may need to run your model multiple times (or use Cross Validation) in order to tell if a change to a hyperparameter is truly producing better results. ✔️"
      ]
    },
    {
      "cell_type": "code",
      "metadata": {
        "colab_type": "code",
        "id": "szi6-IpuzaH1",
        "colab": {},
        "outputId": "e94b23a4-672e-46cc-a38a-98bf19b9ba6c"
      },
      "source": [
        "from tensorflow.keras.datasets import fashion_mnist\n",
        "\n",
        "(X_train, y_train), (X_test, y_test) = fashion_mnist.load_data()\n",
        "\n",
        "print('Train Shapes:')\n",
        "print(f'X: {X_train.shape}')\n",
        "print(f'y: {y_train.shape}')\n",
        "\n",
        "print()\n",
        "\n",
        "print('Test Shapes:')\n",
        "print(f'X: {X_test.shape}')\n",
        "print(f'y: {y_test.shape}')"
      ],
      "execution_count": 0,
      "outputs": [
        {
          "output_type": "stream",
          "text": [
            "Train Shapes:\n",
            "X: (60000, 28, 28)\n",
            "y: (60000,)\n",
            "\n",
            "Test Shapes:\n",
            "X: (10000, 28, 28)\n",
            "y: (10000,)\n"
          ],
          "name": "stdout"
        }
      ]
    },
    {
      "cell_type": "code",
      "metadata": {
        "id": "a2vd2HaOPHrM",
        "colab_type": "code",
        "colab": {},
        "outputId": "5779da02-acdd-4303-927d-2b93e4115a1f"
      },
      "source": [
        "from tensorflow import keras\n",
        "\n",
        "# Defining number of classes (15)\n",
        "num_classes = 15\n",
        "\n",
        "# Define image pixel sizes\n",
        "img_rows = 28\n",
        "img_cols = 28\n",
        "\n",
        "# Reshape our data.\n",
        "X_train = X_train.reshape(X_train.shape[0], img_rows * img_cols)\n",
        "X_test = X_test.reshape(X_test.shape[0], img_rows * img_cols)\n",
        "\n",
        "# X Variable Types\n",
        "X_train = X_train.astype('float32') / 255\n",
        "X_test = X_test.astype('float32') / 255\n",
        "\n",
        "# Categorical encoding on targets\n",
        "y_train = keras.utils.to_categorical(y_train, num_classes)\n",
        "y_test = keras.utils.to_categorical(y_test, num_classes)\n",
        "\n",
        "print(f'X_train Shape: {X_train.shape}')\n",
        "print(f'X_test Shape: {X_test.shape}')"
      ],
      "execution_count": 0,
      "outputs": [
        {
          "output_type": "stream",
          "text": [
            "X_train Shape: (60000, 784)\n",
            "X_test Shape: (10000, 784)\n"
          ],
          "name": "stdout"
        }
      ]
    },
    {
      "cell_type": "code",
      "metadata": {
        "id": "_rmvlqh5PHrT",
        "colab_type": "code",
        "colab": {}
      },
      "source": [
        "import datetime\n",
        "import os\n",
        "import tensorflow as tf\n",
        "from tensorflow.keras.callbacks import EarlyStopping  # For regularization \n",
        "from tensorflow.keras.layers import Dropout, Flatten\n",
        "\n",
        "\n",
        "logdir = os.path.join(\"logs\", datetime.datetime.now().strftime(\"%Y%m%d-%H%M%S\"))  # Log directory\n",
        "tensorboard_callback = tf.keras.callbacks.TensorBoard(logdir, histogram_freq=1) # Our callback\n",
        "stop = EarlyStopping(monitor='val_accuracy', min_delta=0.01, patience=10)  # Monitoring by val_accuracy, minimum improvement 0.005, stop if no improvement after 10 epochs\n",
        "\n",
        "\n",
        "model2 = Sequential()\n",
        "\n",
        "model2.add(Flatten(name='FlattenLayer'))\n",
        "model2.add(Dense(75, activation='sigmoid', input_dim=784, name='Input'))\n",
        "model2.add(Dropout(0.2, name='FirstDropout'))\n",
        "model2.add(Dense(50, activation='sigmoid', name='HiddenLayer1'))\n",
        "model2.add(Dropout(0.2, name='SecondDropout'))\n",
        "model2.add(Dense(40, activation='sigmoid', name='HiddenLayer2'))\n",
        "model2.add(Dropout(0.2, name='ThirdDropout'))\n",
        "model2.add(Dense(20, activation='sigmoid', name='HiddenLayer3'))\n",
        "model2.add(Dropout(0.2, name='FourthDropout'))\n",
        "model2.add(Dense(15, activation='softmax', name='OutputLayer'))\n",
        "\n",
        "model2.compile(optimizer='adam', loss='categorical_crossentropy', metrics=['accuracy'])\n",
        "\n",
        "model2fit = model2.fit(X_train, y_train, validation_data=(X_test, y_test),\n",
        "                       epochs=250, callbacks=[tensorboard_callback, stop],\n",
        "                       verbose=False)\n",
        "score2 = model2.evaluate(X_test, y_test, verbose=False)"
      ],
      "execution_count": 0,
      "outputs": []
    },
    {
      "cell_type": "code",
      "metadata": {
        "id": "cU6rQsHoPHrk",
        "colab_type": "code",
        "colab": {},
        "outputId": "e154fb20-f565-4829-aa2f-2f368e0e2b96"
      },
      "source": [
        "print(f'Accuracy for Fashion-MNIST Dataset: {score2[1]}')"
      ],
      "execution_count": 0,
      "outputs": [
        {
          "output_type": "stream",
          "text": [
            "Accuracy for Fashion-MNIST Dataset: 0.8751999735832214\n"
          ],
          "name": "stdout"
        }
      ]
    },
    {
      "cell_type": "code",
      "metadata": {
        "id": "Kzsh5FPBPHry",
        "colab_type": "code",
        "colab": {},
        "outputId": "5b79af9f-a284-4357-a599-b60ecd48efef"
      },
      "source": [
        "plt.plot(model2fit.history['accuracy'])\n",
        "plt.title('Model Performance (Fashion-MNIST Dataset)')\n",
        "plt.xlabel('Number of Epochs')\n",
        "plt.ylabel('Model Accuracy')\n",
        "plt.show();"
      ],
      "execution_count": 0,
      "outputs": [
        {
          "output_type": "display_data",
          "data": {
            "image/png": "[encoded data removed]",
            "text/plain": [
              "<Figure size 432x288 with 1 Axes>"
            ]
          },
          "metadata": {
            "tags": [],
            "needs_background": "light"
          }
        }
      ]
    },
    {
      "cell_type": "code",
      "metadata": {
        "id": "9EqdDSNePHr7",
        "colab_type": "code",
        "colab": {},
        "outputId": "0870778e-5e5b-4e74-ebe7-6396948a003d"
      },
      "source": [
        "plt.plot(model2fit.history['loss'])\n",
        "plt.title('Model Performance (Fashion-MNIST Dataset)')\n",
        "plt.xlabel('Number of Epochs')\n",
        "plt.ylabel('Loss (Categorical Crossentropy)')\n",
        "plt.show();"
      ],
      "execution_count": 0,
      "outputs": [
        {
          "output_type": "display_data",
          "data": {
            "image/png": "[encoded data removed]",
            "text/plain": [
              "<Figure size 432x288 with 1 Axes>"
            ]
          },
          "metadata": {
            "tags": [],
            "needs_background": "light"
          }
        }
      ]
    },
    {
      "cell_type": "markdown",
      "metadata": {
        "colab_type": "text",
        "id": "zv_3xNMjzdLI"
      },
      "source": [
        "## Stretch Goals:\n",
        "\n",
        "- Use Hyperparameter Tuning to make the accuracy of your models as high as possible. (error as low as possible)\n",
        "- Use Cross Validation techniques to get more consistent results with your model.\n",
        "- Use GridSearchCV to try different combinations of hyperparameters. \n",
        "- Start looking into other types of Keras layers for CNNs and RNNs maybe try and build a CNN model for fashion-MNIST to see how the results compare."
      ]
    }
  ]
}