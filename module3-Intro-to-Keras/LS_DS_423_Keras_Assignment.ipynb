{
  "nbformat": 4,
  "nbformat_minor": 0,
  "metadata": {
    "colab": {
      "name": "LS_DS_423_Keras_Assignment.ipynb",
      "provenance": []
    },
    "kernelspec": {
      "display_name": "U4S2",
      "language": "python",
      "name": "u4s2"
    },
    "language_info": {
      "codemirror_mode": {
        "name": "ipython",
        "version": 3
      },
      "file_extension": ".py",
      "mimetype": "text/x-python",
      "name": "python",
      "nbconvert_exporter": "python",
      "pygments_lexer": "ipython3",
      "version": "3.7.0"
    }
  },
  "cells": [
    {
      "cell_type": "markdown",
      "metadata": {
        "colab_type": "text",
        "id": "pBQsZEJmubLs"
      },
      "source": [
        "<img align=\"left\" src=\"https://lever-client-logos.s3.amazonaws.com/864372b1-534c-480e-acd5-9711f850815c-1524247202159.png\" width=200>\n",
        "<br></br>\n",
        "\n",
        "# Neural Network Framework (Keras)\n",
        "\n",
        "## *Data Science Unit 4 Sprint 2 Assignment 3*\n",
        "\n",
        "## Use the Keras Library to build a Multi-Layer Perceptron Model on the Boston Housing dataset\n",
        "\n",
        "- The Boston Housing dataset comes with the Keras library so use Keras to import it into your notebook. ✔️\n",
        "- Normalize the data (all features should have roughly the same scale) ✔️\n",
        "- Import the type of model and layers that you will need from Keras. ✔️\n",
        "- Instantiate a model object and use `model.add()` to add layers to your model ✔️\n",
        "- Since this is a regression model you will have a single output node in the final layer. ✔️\n",
        "- Use activation functions that are appropriate for this task ✔️\n",
        "- Compile your model ✔️\n",
        "- Fit your model and report its accuracy in terms of Mean Squared Error ✔️\n",
        "- Use the history object that is returned from model.fit to make graphs of the model's loss or train/validation accuracies by epoch. ✔️\n",
        "- Run this same data through a linear regression model. Which achieves higher accuracy? ✔️ **- The Linear Regression Model Achieved Higher Accuracy**\n",
        "- Do a little bit of feature engineering and see how that affects your neural network model. (you will need to change your model to accept more inputs) ✔️\n",
        "- After feature engineering, which model sees a greater accuracy boost due to the new features? ✔️ **-The Linear Regression Model will continue to achieve higher accuracy, unless I take hyperparameter tuning to an extreme within the neural network, as housing prices are more linear, whereas the magic of neural networks is seen in their ability to work with nonlinear data because of the insane level of hyperparameters**"
      ]
    },
    {
      "cell_type": "code",
      "metadata": {
        "colab_type": "code",
        "id": "8NLTAR87uYJ-",
        "outputId": "6445e2a8-f4d8-4051-9253-de0d38fd0ab8",
        "colab": {
          "base_uri": "https://localhost:8080/",
          "height": 148
        }
      },
      "source": [
        "# Load in the boston housing data and train-test-split\n",
        "from tensorflow.keras.datasets import boston_housing\n",
        "\n",
        "(X_train, y_train), (X_test, y_test) = boston_housing.load_data()\n",
        "\n",
        "print('Train Shapes:')\n",
        "print(f'X: {X_train.shape}')\n",
        "print(f'y: {y_train.shape}')\n",
        "\n",
        "print()\n",
        "\n",
        "print('Test Shapes:')\n",
        "print(f'X: {X_test.shape}')\n",
        "print(f'y: {y_test.shape}')"
      ],
      "execution_count": 1,
      "outputs": [
        {
          "output_type": "stream",
          "text": [
            "Train Shapes:\n",
            "X: (404, 13)\n",
            "y: (404,)\n",
            "\n",
            "Test Shapes:\n",
            "X: (102, 13)\n",
            "y: (102,)\n"
          ],
          "name": "stdout"
        }
      ]
    },
    {
      "cell_type": "code",
      "metadata": {
        "id": "qj0deHa9PHp4",
        "colab_type": "code",
        "outputId": "d63a08a5-67bb-408a-f40b-380674a0434d",
        "colab": {
          "base_uri": "https://localhost:8080/",
          "height": 54
        }
      },
      "source": [
        "from sklearn.preprocessing import StandardScaler\n",
        "\n",
        "# Normalize our data to be on the same scale\n",
        "scaler = StandardScaler()  # Instantiate our scaler\n",
        "scaler.fit(X_train)  # Fit\n",
        "\n",
        "# Transform / redefine X_train/X_test\n",
        "X_train = scaler.transform(X_train)\n",
        "X_test = scaler.transform(X_test)\n",
        "\n",
        "print(f'X_train shape: {X_train.shape}')\n",
        "print(f'X_test shape: {X_test.shape}')"
      ],
      "execution_count": 2,
      "outputs": [
        {
          "output_type": "stream",
          "text": [
            "X_train shape: (404, 13)\n",
            "X_test shape: (102, 13)\n"
          ],
          "name": "stdout"
        }
      ]
    },
    {
      "cell_type": "code",
      "metadata": {
        "id": "SKDZni93PHqH",
        "colab_type": "code",
        "colab": {}
      },
      "source": [
        "from tensorflow.keras.models import Sequential  # Our model\n",
        "from tensorflow.keras.layers import Dense  # For our layers.\n",
        "\n",
        "\n",
        "model1 = Sequential()  # Instantiate the model\n",
        "\n",
        "# Adding six total layers. Using rectified linear units until our output layer, where we will use sigmoid.\n",
        "# This is where we are actually building the model.\n",
        "\n",
        "# DS13 - Sharpened this up, stretch goals are what I've been doing as stretch goals all week, so I'm sharpening up code, commenting, etc. :P\n",
        "model1.add(Dense(50, activation='relu', input_dim=X_train.shape[1], name='InputLayer'))\n",
        "model1.add(Dense(25, activation='relu', name='Hidden1'))\n",
        "model1.add(Dense(15, activation='relu', name='Hidden2'))\n",
        "model1.add(Dense(5, activation='relu', name='Hidden3'))\n",
        "model1.add(Dense(3, activation='relu', name='Hidden4'))\n",
        "model1.add(Dense(1, activation='sigmoid', name='OutputLayer'))\n",
        "\n",
        "model1.compile(optimizer='adam', loss='mean_squared_error', metrics=['mean_squared_error'])  # Compile our model.\n",
        "\n",
        "model1fit = model1.fit(X_train, y_train, epochs=250, verbose=False)  # Fit our model to training data, 250 iterations / epochs"
      ],
      "execution_count": 0,
      "outputs": []
    },
    {
      "cell_type": "code",
      "metadata": {
        "id": "7beYi0PSPHqR",
        "colab_type": "code",
        "outputId": "f9bed9b8-71ea-445f-e4cf-aa3ccb8a96a5",
        "colab": {
          "base_uri": "https://localhost:8080/",
          "height": 35
        }
      },
      "source": [
        "score1 = model1.evaluate(X_test, y_test, verbose=False)\n",
        "print(f'MSE for Neural Network: {score1[1]}')"
      ],
      "execution_count": 4,
      "outputs": [
        {
          "output_type": "stream",
          "text": [
            "MSE for Neural Network: 570.7011108398438\n"
          ],
          "name": "stdout"
        }
      ]
    },
    {
      "cell_type": "code",
      "metadata": {
        "id": "KBWhphfsPHqc",
        "colab_type": "code",
        "outputId": "45cbfde1-7fe6-4e39-d7cc-bffc942c1524",
        "colab": {
          "base_uri": "https://localhost:8080/",
          "height": 294
        }
      },
      "source": [
        "# We're going to plot our model performance based upon our metric + number of epochs.\n",
        "\n",
        "import matplotlib.pyplot as plt\n",
        "\n",
        "plt.plot(model1fit.history['mean_squared_error'])\n",
        "plt.title('Model Performance (Boston Housing Dataset)')\n",
        "plt.xlabel('Number of Epochs')\n",
        "plt.ylabel('Mean Squared Error')\n",
        "plt.xlim(-5, 100)\n",
        "plt.show();"
      ],
      "execution_count": 5,
      "outputs": [
        {
          "output_type": "display_data",
          "data": {
            "image/png": "[encoded data removed]",
            "text/plain": [
              "<Figure size 432x288 with 1 Axes>"
            ]
          },
          "metadata": {
            "tags": [],
            "needs_background": "light"
          }
        }
      ]
    },
    {
      "cell_type": "code",
      "metadata": {
        "id": "8e8L3uKmPHqk",
        "colab_type": "code",
        "outputId": "ae8ec75a-7e55-43de-c06c-8f7b56675aed",
        "colab": {
          "base_uri": "https://localhost:8080/",
          "height": 35
        }
      },
      "source": [
        "# Let's do it again, this time with linear regression.\n",
        "from sklearn.linear_model import LinearRegression\n",
        "from sklearn.metrics import mean_squared_error\n",
        "\n",
        "linreg = LinearRegression()  # Instantiate\n",
        "\n",
        "linreg.fit(X_train, y_train)  # Fit the Model\n",
        "y_pred = linreg.predict(X_test)  # Make Predictions\n",
        "\n",
        "print(f'MSE for Linear Regression: {mean_squared_error(y_test, y_pred)}')  # Evaluate our model."
      ],
      "execution_count": 6,
      "outputs": [
        {
          "output_type": "stream",
          "text": [
            "MSE for Linear Regression: 23.195599256423\n"
          ],
          "name": "stdout"
        }
      ]
    },
    {
      "cell_type": "code",
      "metadata": {
        "id": "PcgOzcHEPHqu",
        "colab_type": "code",
        "outputId": "9ad9dcea-5bbc-448c-b4c1-71cab7992147",
        "colab": {
          "base_uri": "https://localhost:8080/",
          "height": 35
        }
      },
      "source": [
        "import pandas as pd\n",
        "import numpy as np\n",
        "\n",
        "(X_train, y_train), (X_test, y_test) = boston_housing.load_data()\n",
        "\n",
        "# Normalize our data\n",
        "scaler = StandardScaler()\n",
        "scaler.fit(X_train)\n",
        "X_train = scaler.transform(X_train)\n",
        "X_test = scaler.transform(X_test)\n",
        "\n",
        "# Send to dataframe for ease in removing biased column (feature engineering)\n",
        "X_train = pd.DataFrame.from_dict(X_train)\n",
        "X_test = pd.DataFrame.from_dict(X_test)\n",
        "\n",
        "X_train.shape, X_test.shape"
      ],
      "execution_count": 7,
      "outputs": [
        {
          "output_type": "execute_result",
          "data": {
            "text/plain": [
              "((404, 13), (102, 13))"
            ]
          },
          "metadata": {
            "tags": []
          },
          "execution_count": 7
        }
      ]
    },
    {
      "cell_type": "code",
      "metadata": {
        "id": "3Gt2xfa8gOgO",
        "colab_type": "code",
        "colab": {
          "base_uri": "https://localhost:8080/",
          "height": 197
        },
        "outputId": "76332537-b15d-4d10-a26e-762d7418f15b"
      },
      "source": [
        "# Column #11 is racial bias, I'm going to remove that.  B 1000(Bk - 0.63)^2 where Bk is the proportion of blacks by town\n",
        "\n",
        "\n",
        "X_train = X_train.drop(columns=11)\n",
        "X_test = X_test.drop(columns=11)\n",
        "\n",
        "X_train.head()"
      ],
      "execution_count": 8,
      "outputs": [
        {
          "output_type": "execute_result",
          "data": {
            "text/html": [
              "<div>\n",
              "<style scoped>\n",
              "    .dataframe tbody tr th:only-of-type {\n",
              "        vertical-align: middle;\n",
              "    }\n",
              "\n",
              "    .dataframe tbody tr th {\n",
              "        vertical-align: top;\n",
              "    }\n",
              "\n",
              "    .dataframe thead th {\n",
              "        text-align: right;\n",
              "    }\n",
              "</style>\n",
              "<table border=\"1\" class=\"dataframe\">\n",
              "  <thead>\n",
              "    <tr style=\"text-align: right;\">\n",
              "      <th></th>\n",
              "      <th>0</th>\n",
              "      <th>1</th>\n",
              "      <th>2</th>\n",
              "      <th>3</th>\n",
              "      <th>4</th>\n",
              "      <th>5</th>\n",
              "      <th>6</th>\n",
              "      <th>7</th>\n",
              "      <th>8</th>\n",
              "      <th>9</th>\n",
              "      <th>10</th>\n",
              "      <th>12</th>\n",
              "    </tr>\n",
              "  </thead>\n",
              "  <tbody>\n",
              "    <tr>\n",
              "      <th>0</th>\n",
              "      <td>-0.272246</td>\n",
              "      <td>-0.483615</td>\n",
              "      <td>-0.435762</td>\n",
              "      <td>-0.256833</td>\n",
              "      <td>-0.165227</td>\n",
              "      <td>-0.176443</td>\n",
              "      <td>0.813062</td>\n",
              "      <td>0.116698</td>\n",
              "      <td>-0.626249</td>\n",
              "      <td>-0.595170</td>\n",
              "      <td>1.148500</td>\n",
              "      <td>0.825220</td>\n",
              "    </tr>\n",
              "    <tr>\n",
              "      <th>1</th>\n",
              "      <td>-0.403427</td>\n",
              "      <td>2.991784</td>\n",
              "      <td>-1.333912</td>\n",
              "      <td>-0.256833</td>\n",
              "      <td>-1.215182</td>\n",
              "      <td>1.894346</td>\n",
              "      <td>-1.910361</td>\n",
              "      <td>1.247585</td>\n",
              "      <td>-0.856463</td>\n",
              "      <td>-0.348433</td>\n",
              "      <td>-1.718189</td>\n",
              "      <td>-1.329202</td>\n",
              "    </tr>\n",
              "    <tr>\n",
              "      <th>2</th>\n",
              "      <td>0.124940</td>\n",
              "      <td>-0.483615</td>\n",
              "      <td>1.028326</td>\n",
              "      <td>-0.256833</td>\n",
              "      <td>0.628642</td>\n",
              "      <td>-1.829688</td>\n",
              "      <td>1.110488</td>\n",
              "      <td>-1.187439</td>\n",
              "      <td>1.675886</td>\n",
              "      <td>1.565287</td>\n",
              "      <td>0.784476</td>\n",
              "      <td>-1.308500</td>\n",
              "    </tr>\n",
              "    <tr>\n",
              "      <th>3</th>\n",
              "      <td>-0.401494</td>\n",
              "      <td>-0.483615</td>\n",
              "      <td>-0.869402</td>\n",
              "      <td>-0.256833</td>\n",
              "      <td>-0.361560</td>\n",
              "      <td>-0.324558</td>\n",
              "      <td>-1.236672</td>\n",
              "      <td>1.107180</td>\n",
              "      <td>-0.511142</td>\n",
              "      <td>-1.094663</td>\n",
              "      <td>0.784476</td>\n",
              "      <td>-0.652926</td>\n",
              "    </tr>\n",
              "    <tr>\n",
              "      <th>4</th>\n",
              "      <td>-0.005634</td>\n",
              "      <td>-0.483615</td>\n",
              "      <td>1.028326</td>\n",
              "      <td>-0.256833</td>\n",
              "      <td>1.328612</td>\n",
              "      <td>0.153642</td>\n",
              "      <td>0.694808</td>\n",
              "      <td>-0.578572</td>\n",
              "      <td>1.675886</td>\n",
              "      <td>1.565287</td>\n",
              "      <td>0.784476</td>\n",
              "      <td>0.263497</td>\n",
              "    </tr>\n",
              "  </tbody>\n",
              "</table>\n",
              "</div>"
            ],
            "text/plain": [
              "         0         1         2   ...        9         10        12\n",
              "0 -0.272246 -0.483615 -0.435762  ... -0.595170  1.148500  0.825220\n",
              "1 -0.403427  2.991784 -1.333912  ... -0.348433 -1.718189 -1.329202\n",
              "2  0.124940 -0.483615  1.028326  ...  1.565287  0.784476 -1.308500\n",
              "3 -0.401494 -0.483615 -0.869402  ... -1.094663  0.784476 -0.652926\n",
              "4 -0.005634 -0.483615  1.028326  ...  1.565287  0.784476  0.263497\n",
              "\n",
              "[5 rows x 12 columns]"
            ]
          },
          "metadata": {
            "tags": []
          },
          "execution_count": 8
        }
      ]
    },
    {
      "cell_type": "code",
      "metadata": {
        "id": "fVf7qJ5hfhBd",
        "colab_type": "code",
        "colab": {}
      },
      "source": [
        "model2 = Sequential()  # Instantiate the model\n",
        "\n",
        "# Adding six total layers. Using rectified linear units until our output layer, where we will use sigmoid.\n",
        "# This is where we are actually building the model.\n",
        "\n",
        "model2.add(Dense(50, activation='relu', input_dim=X_train.shape[1], name='InputLayer'))\n",
        "model2.add(Dense(25, activation='relu', name='Hidden1'))\n",
        "model2.add(Dense(15, activation='relu', name='Hidden2'))\n",
        "model2.add(Dense(1, activation='sigmoid', name='OutputLayer'))\n",
        "\n",
        "model2.compile(optimizer='adam', loss='mean_squared_error', metrics=['mean_squared_error'])  # Compile our model.\n",
        "\n",
        "model2.fit(X_train.values, y_train, epochs=250, verbose=False)  # Fit our model to training data, 250 iterations / epochs\n",
        "model2results = model2.evaluate(X_test.values, y_test, verbose=False)\n",
        "\n",
        "# Remember to use .values if in a pandas DataFrame!"
      ],
      "execution_count": 0,
      "outputs": []
    },
    {
      "cell_type": "code",
      "metadata": {
        "id": "WqiWh188gr0F",
        "colab_type": "code",
        "colab": {
          "base_uri": "https://localhost:8080/",
          "height": 54
        },
        "outputId": "9b61a13b-bd9c-40b2-e4bd-dba628ca898e"
      },
      "source": [
        "linreg = LinearRegression()  # Instantiate\n",
        "\n",
        "linreg.fit(X_train, y_train)  # Fit the Model\n",
        "y_pred = linreg.predict(X_test)  # Make Predictions\n",
        "\n",
        "print(f'MSE for Linear Regression: {mean_squared_error(y_test, y_pred)}')  # Evaluate our model.\n",
        "print(f'New Neural Network MSE: {model2results[1]}')"
      ],
      "execution_count": 10,
      "outputs": [
        {
          "output_type": "stream",
          "text": [
            "MSE for Linear Regression: 23.927224586760065\n",
            "New Neural Network MSE: 570.7011108398438\n"
          ],
          "name": "stdout"
        }
      ]
    },
    {
      "cell_type": "markdown",
      "metadata": {
        "colab_type": "text",
        "id": "SfcFnOONyuNm"
      },
      "source": [
        "## Use the Keras Library to build an image recognition network using the Fashion-MNIST dataset (also comes with keras)\n",
        "\n",
        "- Load and preprocess the image data similar to how we preprocessed the MNIST data in class. ✔️\n",
        "- Make sure to one-hot encode your category labels ✔️\n",
        "- The number of nodes in your output layer should equal the number of classes you want to predict for Fashion-MNIST. ✔️\n",
        "- Try different hyperparameters. What is the highest accuracy that you are able to achieve. ✔️\n",
        "- Use the history object that is returned from model.fit to make graphs of the model's loss or train/validation accuracies by epoch. ✔️\n",
        "- Remember that neural networks fall prey to randomness so you may need to run your model multiple times (or use Cross Validation) in order to tell if a change to a hyperparameter is truly producing better results. ✔️"
      ]
    },
    {
      "cell_type": "code",
      "metadata": {
        "colab_type": "code",
        "id": "szi6-IpuzaH1",
        "outputId": "20f580d3-ddd6-4119-8710-63e436f39223",
        "colab": {
          "base_uri": "https://localhost:8080/",
          "height": 148
        }
      },
      "source": [
        "from tensorflow.keras.datasets import fashion_mnist\n",
        "\n",
        "(X_train, y_train), (X_test, y_test) = fashion_mnist.load_data()\n",
        "\n",
        "print('Train Shapes:')\n",
        "print(f'X: {X_train.shape}')\n",
        "print(f'y: {y_train.shape}')\n",
        "\n",
        "print()\n",
        "\n",
        "print('Test Shapes:')\n",
        "print(f'X: {X_test.shape}')\n",
        "print(f'y: {y_test.shape}')"
      ],
      "execution_count": 11,
      "outputs": [
        {
          "output_type": "stream",
          "text": [
            "Train Shapes:\n",
            "X: (60000, 28, 28)\n",
            "y: (60000,)\n",
            "\n",
            "Test Shapes:\n",
            "X: (10000, 28, 28)\n",
            "y: (10000,)\n"
          ],
          "name": "stdout"
        }
      ]
    },
    {
      "cell_type": "code",
      "metadata": {
        "id": "a2vd2HaOPHrM",
        "colab_type": "code",
        "outputId": "78732bcf-d57f-471f-dbad-e131d9f58212",
        "colab": {
          "base_uri": "https://localhost:8080/",
          "height": 54
        }
      },
      "source": [
        "from tensorflow import keras\n",
        "\n",
        "# Defining number of classes (15)\n",
        "num_classes = 15\n",
        "\n",
        "# Define image pixel sizes\n",
        "img_rows = 28\n",
        "img_cols = 28\n",
        "\n",
        "# Reshape our data.\n",
        "X_train = X_train.reshape(X_train.shape[0], img_rows * img_cols)\n",
        "X_test = X_test.reshape(X_test.shape[0], img_rows * img_cols)\n",
        "\n",
        "# X Variable Types\n",
        "X_train = X_train.astype('float32') / 255\n",
        "X_test = X_test.astype('float32') / 255\n",
        "\n",
        "# Categorical encoding on targets\n",
        "y_train = keras.utils.to_categorical(y_train, num_classes)\n",
        "y_test = keras.utils.to_categorical(y_test, num_classes)\n",
        "\n",
        "print(f'X_train Shape: {X_train.shape}')\n",
        "print(f'X_test Shape: {X_test.shape}')"
      ],
      "execution_count": 12,
      "outputs": [
        {
          "output_type": "stream",
          "text": [
            "X_train Shape: (60000, 784)\n",
            "X_test Shape: (10000, 784)\n"
          ],
          "name": "stdout"
        }
      ]
    },
    {
      "cell_type": "code",
      "metadata": {
        "id": "_rmvlqh5PHrT",
        "colab_type": "code",
        "colab": {}
      },
      "source": [
        "import datetime\n",
        "import os\n",
        "import tensorflow as tf\n",
        "from tensorflow.keras.callbacks import EarlyStopping  # For regularization \n",
        "from tensorflow.keras.layers import Dropout, Flatten\n",
        "\n",
        "\n",
        "logdir = os.path.join(\"logs\", datetime.datetime.now().strftime(\"%Y%m%d-%H%M%S\"))  # Log directory\n",
        "tensorboard_callback = tf.keras.callbacks.TensorBoard(logdir, histogram_freq=1) # Our callback\n",
        "stop = EarlyStopping(monitor='val_accuracy', min_delta=0.01, patience=10)  # Monitoring by val_accuracy, minimum improvement 0.01, stop if no improvement after 10 epochs\n",
        "\n",
        "\n",
        "model2 = Sequential()\n",
        "\n",
        "model2.add(Flatten(name='FlattenLayer'))\n",
        "model2.add(Dense(75, activation='relu', input_dim=X_train.shape[1], name='Input'))\n",
        "model2.add(Dropout(0.2, name='FirstDropout'))  # Dropout layer, can be tuned\n",
        "model2.add(Dense(50, activation='relu', name='HiddenLayer1'))\n",
        "model2.add(Dropout(0.2, name='SecondDropout'))  # Dropout layer\n",
        "model2.add(Dense(40, activation='relu', name='HiddenLayer2'))\n",
        "model2.add(Dropout(0.2, name='ThirdDropout')) # Dropout layer\n",
        "model2.add(Dense(15, activation='softmax', name='OutputLayer'))  # Softmax - multi-class classification\n",
        "\n",
        "model2.compile(optimizer='adam', loss='categorical_crossentropy', metrics=['accuracy'])\n",
        "\n",
        "model2fit = model2.fit(X_train, y_train, validation_split=0.2,  # Doing a validation split of 20%\n",
        "                       epochs=250, callbacks=[tensorboard_callback, stop],  # EarlyStopping / tensorboard callbacks\n",
        "                       verbose=False)\n",
        "score2 = model2.evaluate(X_test, y_test, verbose=False)"
      ],
      "execution_count": 0,
      "outputs": []
    },
    {
      "cell_type": "code",
      "metadata": {
        "id": "cU6rQsHoPHrk",
        "colab_type": "code",
        "outputId": "1de38d42-86a7-4228-8383-2f8be6541807",
        "colab": {
          "base_uri": "https://localhost:8080/",
          "height": 35
        }
      },
      "source": [
        "print(f'Accuracy for Fashion-MNIST Dataset: {score2[1]}')"
      ],
      "execution_count": 14,
      "outputs": [
        {
          "output_type": "stream",
          "text": [
            "Accuracy for Fashion-MNIST Dataset: 0.8700000047683716\n"
          ],
          "name": "stdout"
        }
      ]
    },
    {
      "cell_type": "code",
      "metadata": {
        "id": "Kzsh5FPBPHry",
        "colab_type": "code",
        "outputId": "8bb5f883-7e9f-48f8-dcbe-e05c865c0d07",
        "colab": {
          "base_uri": "https://localhost:8080/",
          "height": 294
        }
      },
      "source": [
        "# Plotting epochs / accuracy\n",
        "\n",
        "plt.plot(model2fit.history['accuracy'])\n",
        "plt.title('Model Performance (Fashion-MNIST Dataset)')\n",
        "plt.xlabel('Number of Epochs')\n",
        "plt.ylabel('Model Accuracy')\n",
        "plt.show();"
      ],
      "execution_count": 15,
      "outputs": [
        {
          "output_type": "display_data",
          "data": {
            "image/png": "[encoded data removed]",
            "text/plain": [
              "<Figure size 432x288 with 1 Axes>"
            ]
          },
          "metadata": {
            "tags": [],
            "needs_background": "light"
          }
        }
      ]
    },
    {
      "cell_type": "code",
      "metadata": {
        "id": "9EqdDSNePHr7",
        "colab_type": "code",
        "outputId": "ce55abf9-ae55-4dcb-c59f-52d0c63e9ed7",
        "colab": {
          "base_uri": "https://localhost:8080/",
          "height": 294
        }
      },
      "source": [
        "# Plotting epochs / loss\n",
        "\n",
        "plt.plot(model2fit.history['loss'])\n",
        "plt.title('Model Performance (Fashion-MNIST Dataset)')\n",
        "plt.xlabel('Number of Epochs')\n",
        "plt.ylabel('Loss (Categorical Crossentropy)')\n",
        "plt.show();"
      ],
      "execution_count": 16,
      "outputs": [
        {
          "output_type": "display_data",
          "data": {
            "image/png": "[encoded data removed]",
            "text/plain": [
              "<Figure size 432x288 with 1 Axes>"
            ]
          },
          "metadata": {
            "tags": [],
            "needs_background": "light"
          }
        }
      ]
    },
    {
      "cell_type": "markdown",
      "metadata": {
        "colab_type": "text",
        "id": "zv_3xNMjzdLI"
      },
      "source": [
        "## Stretch Goals:\n",
        "\n",
        "- Use Hyperparameter Tuning to make the accuracy of your models as high as possible. (error as low as possible)\n",
        "- Use Cross Validation techniques to get more consistent results with your model.\n",
        "- Use GridSearchCV to try different combinations of hyperparameters. \n",
        "- Start looking into other types of Keras layers for CNNs and RNNs maybe try and build a CNN model for fashion-MNIST to see how the results compare."
      ]
    }
  ]
}