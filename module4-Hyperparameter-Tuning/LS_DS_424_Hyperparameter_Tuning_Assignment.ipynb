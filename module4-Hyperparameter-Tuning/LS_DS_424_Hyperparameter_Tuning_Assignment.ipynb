{
  "nbformat": 4,
  "nbformat_minor": 0,
  "metadata": {
    "colab": {
      "name": "LS_DS_424_Hyperparameter_Tuning_Assignment.ipynb",
      "provenance": []
    },
    "kernelspec": {
      "display_name": "U4S2",
      "language": "python",
      "name": "u4s2"
    },
    "language_info": {
      "codemirror_mode": {
        "name": "ipython",
        "version": 3
      },
      "file_extension": ".py",
      "mimetype": "text/x-python",
      "name": "python",
      "nbconvert_exporter": "python",
      "pygments_lexer": "ipython3",
      "version": "3.7.0"
    }
  },
  "cells": [
    {
      "cell_type": "markdown",
      "metadata": {
        "colab_type": "text",
        "id": "9Ryp-TVm4njD"
      },
      "source": [
        "<img align=\"left\" src=\"https://lever-client-logos.s3.amazonaws.com/864372b1-534c-480e-acd5-9711f850815c-1524247202159.png\" width=200>\n",
        "<br></br>\n",
        "\n",
        "# Hyperparameter Tuning\n",
        "\n",
        "## *Data Science Unit 4 Sprint 2 Assignment 4*\n",
        "\n",
        "## Your Mission, should you choose to accept it...\n",
        "\n",
        "To hyperparameter tune and extract every ounce of accuracy out of this telecom customer churn dataset: [Available Here](https://lambdaschool-data-science.s3.amazonaws.com/telco-churn/WA_Fn-UseC_-Telco-Customer-Churn+(1).csv)\n",
        "\n",
        "## Requirements\n",
        "\n",
        "- Load the data ✔\n",
        "- Clean the data if necessary (it will be) ✔\n",
        "- Create and fit a baseline Keras MLP model to the data. ✔\n",
        "- Hyperparameter tune (at least) the following parameters:\n",
        " - batch_size ✔\n",
        " - training epochs ✔\n",
        " - optimizer ✔\n",
        " - learning rate (if applicable to optimizer) ✔\n",
        " - momentum (if applicable to optimizer) ✔ (Not Applicable)\n",
        " - activation functions ✔\n",
        " - network weight initialization ✔\n",
        " - dropout regularization ✔\n",
        " - number of neurons in the hidden layer ✔\n",
        " \n",
        " You must use Grid Search and Cross Validation for your initial pass of the above hyperparameters\n",
        " \n",
        " Try and get the maximum accuracy possible out of this data! You'll save big telecoms millions! Doesn't that sound great?\n"
      ]
    },
    {
      "cell_type": "code",
      "metadata": {
        "colab_type": "code",
        "id": "NNJ-tOBs4jM1",
        "colab": {}
      },
      "source": [
        "# Load and Clean Data"
      ],
      "execution_count": 0,
      "outputs": []
    },
    {
      "cell_type": "code",
      "metadata": {
        "id": "aj9cSwUae9_6",
        "colab_type": "code",
        "colab": {},
        "outputId": "281bdaf3-c712-4690-a1db-c87b2bd6af32"
      },
      "source": [
        "# Imports\n",
        "import pandas as pd\n",
        "import numpy as np\n",
        "\n",
        "# Fix random seed for reproducibility\n",
        "seed = 7\n",
        "np.random.seed(seed)\n",
        "\n",
        "url = 'https://lambdaschool-data-science.s3.amazonaws.com/telco-churn/WA_Fn-UseC_-Telco-Customer-Churn+(1).csv'\n",
        "    \n",
        "df = pd.read_csv(url)\n",
        "\n",
        "df.head()"
      ],
      "execution_count": 0,
      "outputs": [
        {
          "output_type": "execute_result",
          "data": {
            "text/html": [
              "<div>\n",
              "<style scoped>\n",
              "    .dataframe tbody tr th:only-of-type {\n",
              "        vertical-align: middle;\n",
              "    }\n",
              "\n",
              "    .dataframe tbody tr th {\n",
              "        vertical-align: top;\n",
              "    }\n",
              "\n",
              "    .dataframe thead th {\n",
              "        text-align: right;\n",
              "    }\n",
              "</style>\n",
              "<table border=\"1\" class=\"dataframe\">\n",
              "  <thead>\n",
              "    <tr style=\"text-align: right;\">\n",
              "      <th></th>\n",
              "      <th>customerID</th>\n",
              "      <th>gender</th>\n",
              "      <th>SeniorCitizen</th>\n",
              "      <th>Partner</th>\n",
              "      <th>Dependents</th>\n",
              "      <th>tenure</th>\n",
              "      <th>PhoneService</th>\n",
              "      <th>MultipleLines</th>\n",
              "      <th>InternetService</th>\n",
              "      <th>OnlineSecurity</th>\n",
              "      <th>...</th>\n",
              "      <th>DeviceProtection</th>\n",
              "      <th>TechSupport</th>\n",
              "      <th>StreamingTV</th>\n",
              "      <th>StreamingMovies</th>\n",
              "      <th>Contract</th>\n",
              "      <th>PaperlessBilling</th>\n",
              "      <th>PaymentMethod</th>\n",
              "      <th>MonthlyCharges</th>\n",
              "      <th>TotalCharges</th>\n",
              "      <th>Churn</th>\n",
              "    </tr>\n",
              "  </thead>\n",
              "  <tbody>\n",
              "    <tr>\n",
              "      <th>0</th>\n",
              "      <td>7590-VHVEG</td>\n",
              "      <td>Female</td>\n",
              "      <td>0</td>\n",
              "      <td>Yes</td>\n",
              "      <td>No</td>\n",
              "      <td>1</td>\n",
              "      <td>No</td>\n",
              "      <td>No phone service</td>\n",
              "      <td>DSL</td>\n",
              "      <td>No</td>\n",
              "      <td>...</td>\n",
              "      <td>No</td>\n",
              "      <td>No</td>\n",
              "      <td>No</td>\n",
              "      <td>No</td>\n",
              "      <td>Month-to-month</td>\n",
              "      <td>Yes</td>\n",
              "      <td>Electronic check</td>\n",
              "      <td>29.85</td>\n",
              "      <td>29.85</td>\n",
              "      <td>No</td>\n",
              "    </tr>\n",
              "    <tr>\n",
              "      <th>1</th>\n",
              "      <td>5575-GNVDE</td>\n",
              "      <td>Male</td>\n",
              "      <td>0</td>\n",
              "      <td>No</td>\n",
              "      <td>No</td>\n",
              "      <td>34</td>\n",
              "      <td>Yes</td>\n",
              "      <td>No</td>\n",
              "      <td>DSL</td>\n",
              "      <td>Yes</td>\n",
              "      <td>...</td>\n",
              "      <td>Yes</td>\n",
              "      <td>No</td>\n",
              "      <td>No</td>\n",
              "      <td>No</td>\n",
              "      <td>One year</td>\n",
              "      <td>No</td>\n",
              "      <td>Mailed check</td>\n",
              "      <td>56.95</td>\n",
              "      <td>1889.5</td>\n",
              "      <td>No</td>\n",
              "    </tr>\n",
              "    <tr>\n",
              "      <th>2</th>\n",
              "      <td>3668-QPYBK</td>\n",
              "      <td>Male</td>\n",
              "      <td>0</td>\n",
              "      <td>No</td>\n",
              "      <td>No</td>\n",
              "      <td>2</td>\n",
              "      <td>Yes</td>\n",
              "      <td>No</td>\n",
              "      <td>DSL</td>\n",
              "      <td>Yes</td>\n",
              "      <td>...</td>\n",
              "      <td>No</td>\n",
              "      <td>No</td>\n",
              "      <td>No</td>\n",
              "      <td>No</td>\n",
              "      <td>Month-to-month</td>\n",
              "      <td>Yes</td>\n",
              "      <td>Mailed check</td>\n",
              "      <td>53.85</td>\n",
              "      <td>108.15</td>\n",
              "      <td>Yes</td>\n",
              "    </tr>\n",
              "    <tr>\n",
              "      <th>3</th>\n",
              "      <td>7795-CFOCW</td>\n",
              "      <td>Male</td>\n",
              "      <td>0</td>\n",
              "      <td>No</td>\n",
              "      <td>No</td>\n",
              "      <td>45</td>\n",
              "      <td>No</td>\n",
              "      <td>No phone service</td>\n",
              "      <td>DSL</td>\n",
              "      <td>Yes</td>\n",
              "      <td>...</td>\n",
              "      <td>Yes</td>\n",
              "      <td>Yes</td>\n",
              "      <td>No</td>\n",
              "      <td>No</td>\n",
              "      <td>One year</td>\n",
              "      <td>No</td>\n",
              "      <td>Bank transfer (automatic)</td>\n",
              "      <td>42.30</td>\n",
              "      <td>1840.75</td>\n",
              "      <td>No</td>\n",
              "    </tr>\n",
              "    <tr>\n",
              "      <th>4</th>\n",
              "      <td>9237-HQITU</td>\n",
              "      <td>Female</td>\n",
              "      <td>0</td>\n",
              "      <td>No</td>\n",
              "      <td>No</td>\n",
              "      <td>2</td>\n",
              "      <td>Yes</td>\n",
              "      <td>No</td>\n",
              "      <td>Fiber optic</td>\n",
              "      <td>No</td>\n",
              "      <td>...</td>\n",
              "      <td>No</td>\n",
              "      <td>No</td>\n",
              "      <td>No</td>\n",
              "      <td>No</td>\n",
              "      <td>Month-to-month</td>\n",
              "      <td>Yes</td>\n",
              "      <td>Electronic check</td>\n",
              "      <td>70.70</td>\n",
              "      <td>151.65</td>\n",
              "      <td>Yes</td>\n",
              "    </tr>\n",
              "  </tbody>\n",
              "</table>\n",
              "<p>5 rows × 21 columns</p>\n",
              "</div>"
            ],
            "text/plain": [
              "   customerID  gender  SeniorCitizen Partner Dependents  tenure PhoneService  \\\n",
              "0  7590-VHVEG  Female              0     Yes         No       1           No   \n",
              "1  5575-GNVDE    Male              0      No         No      34          Yes   \n",
              "2  3668-QPYBK    Male              0      No         No       2          Yes   \n",
              "3  7795-CFOCW    Male              0      No         No      45           No   \n",
              "4  9237-HQITU  Female              0      No         No       2          Yes   \n",
              "\n",
              "      MultipleLines InternetService OnlineSecurity  ... DeviceProtection  \\\n",
              "0  No phone service             DSL             No  ...               No   \n",
              "1                No             DSL            Yes  ...              Yes   \n",
              "2                No             DSL            Yes  ...               No   \n",
              "3  No phone service             DSL            Yes  ...              Yes   \n",
              "4                No     Fiber optic             No  ...               No   \n",
              "\n",
              "  TechSupport StreamingTV StreamingMovies        Contract PaperlessBilling  \\\n",
              "0          No          No              No  Month-to-month              Yes   \n",
              "1          No          No              No        One year               No   \n",
              "2          No          No              No  Month-to-month              Yes   \n",
              "3         Yes          No              No        One year               No   \n",
              "4          No          No              No  Month-to-month              Yes   \n",
              "\n",
              "               PaymentMethod MonthlyCharges  TotalCharges Churn  \n",
              "0           Electronic check          29.85         29.85    No  \n",
              "1               Mailed check          56.95        1889.5    No  \n",
              "2               Mailed check          53.85        108.15   Yes  \n",
              "3  Bank transfer (automatic)          42.30       1840.75    No  \n",
              "4           Electronic check          70.70        151.65   Yes  \n",
              "\n",
              "[5 rows x 21 columns]"
            ]
          },
          "metadata": {
            "tags": []
          },
          "execution_count": 1
        }
      ]
    },
    {
      "cell_type": "code",
      "metadata": {
        "id": "9bpGynG0e-AK",
        "colab_type": "code",
        "colab": {},
        "outputId": "8a626916-efe1-4e70-bc22-34719064ddd9"
      },
      "source": [
        "df.dtypes"
      ],
      "execution_count": 0,
      "outputs": [
        {
          "output_type": "execute_result",
          "data": {
            "text/plain": [
              "customerID           object\n",
              "gender               object\n",
              "SeniorCitizen         int64\n",
              "Partner              object\n",
              "Dependents           object\n",
              "tenure                int64\n",
              "PhoneService         object\n",
              "MultipleLines        object\n",
              "InternetService      object\n",
              "OnlineSecurity       object\n",
              "OnlineBackup         object\n",
              "DeviceProtection     object\n",
              "TechSupport          object\n",
              "StreamingTV          object\n",
              "StreamingMovies      object\n",
              "Contract             object\n",
              "PaperlessBilling     object\n",
              "PaymentMethod        object\n",
              "MonthlyCharges      float64\n",
              "TotalCharges         object\n",
              "Churn                object\n",
              "dtype: object"
            ]
          },
          "metadata": {
            "tags": []
          },
          "execution_count": 2
        }
      ]
    },
    {
      "cell_type": "code",
      "metadata": {
        "id": "lZvaQuJFe-AV",
        "colab_type": "code",
        "colab": {},
        "outputId": "94b2ede2-cc97-4886-c1b4-a4dfefe610f3"
      },
      "source": [
        "df['TotalCharges'] = df['TotalCharges'].replace(' ', np.NaN) # Replace spaces with NaN\n",
        "\n",
        "df['TotalCharges'] = df['TotalCharges'].astype(float)\n",
        "\n",
        "df.dtypes"
      ],
      "execution_count": 0,
      "outputs": [
        {
          "output_type": "execute_result",
          "data": {
            "text/plain": [
              "customerID           object\n",
              "gender               object\n",
              "SeniorCitizen         int64\n",
              "Partner              object\n",
              "Dependents           object\n",
              "tenure                int64\n",
              "PhoneService         object\n",
              "MultipleLines        object\n",
              "InternetService      object\n",
              "OnlineSecurity       object\n",
              "OnlineBackup         object\n",
              "DeviceProtection     object\n",
              "TechSupport          object\n",
              "StreamingTV          object\n",
              "StreamingMovies      object\n",
              "Contract             object\n",
              "PaperlessBilling     object\n",
              "PaymentMethod        object\n",
              "MonthlyCharges      float64\n",
              "TotalCharges        float64\n",
              "Churn                object\n",
              "dtype: object"
            ]
          },
          "metadata": {
            "tags": []
          },
          "execution_count": 3
        }
      ]
    },
    {
      "cell_type": "code",
      "metadata": {
        "id": "nJmsRfMRe-Ab",
        "colab_type": "code",
        "colab": {}
      },
      "source": [
        "# Drop NA values.\n",
        "df = df.dropna()\n",
        "\n",
        "# customerID is irrelevant and will affect model accuracy. Let's drop it.\n",
        "\n",
        "df = df.drop(columns='customerID')\n",
        "\n",
        "\n",
        "# These are already taken into consideration by the model.\n",
        "df['MultipleLines'] = df['MultipleLines'].replace('No phone service', 'No')\n",
        "df[['OnlineSecurity', 'OnlineBackup', \n",
        "    'DeviceProtection', 'TechSupport',\n",
        "    'StreamingTV', 'StreamingMovies']] = df[['OnlineSecurity', 'OnlineBackup',\n",
        "                                             'DeviceProtection', 'TechSupport',\n",
        "                                             'StreamingTV', 'StreamingMovies']].replace('No internet service', 'No')"
      ],
      "execution_count": 0,
      "outputs": []
    },
    {
      "cell_type": "code",
      "metadata": {
        "id": "cwCBGCqze-Ag",
        "colab_type": "code",
        "colab": {},
        "outputId": "67eb27aa-be53-4150-97fc-545abe01b3df"
      },
      "source": [
        "df.sample(10)"
      ],
      "execution_count": 0,
      "outputs": [
        {
          "output_type": "execute_result",
          "data": {
            "text/html": [
              "<div>\n",
              "<style scoped>\n",
              "    .dataframe tbody tr th:only-of-type {\n",
              "        vertical-align: middle;\n",
              "    }\n",
              "\n",
              "    .dataframe tbody tr th {\n",
              "        vertical-align: top;\n",
              "    }\n",
              "\n",
              "    .dataframe thead th {\n",
              "        text-align: right;\n",
              "    }\n",
              "</style>\n",
              "<table border=\"1\" class=\"dataframe\">\n",
              "  <thead>\n",
              "    <tr style=\"text-align: right;\">\n",
              "      <th></th>\n",
              "      <th>gender</th>\n",
              "      <th>SeniorCitizen</th>\n",
              "      <th>Partner</th>\n",
              "      <th>Dependents</th>\n",
              "      <th>tenure</th>\n",
              "      <th>PhoneService</th>\n",
              "      <th>MultipleLines</th>\n",
              "      <th>InternetService</th>\n",
              "      <th>OnlineSecurity</th>\n",
              "      <th>OnlineBackup</th>\n",
              "      <th>DeviceProtection</th>\n",
              "      <th>TechSupport</th>\n",
              "      <th>StreamingTV</th>\n",
              "      <th>StreamingMovies</th>\n",
              "      <th>Contract</th>\n",
              "      <th>PaperlessBilling</th>\n",
              "      <th>PaymentMethod</th>\n",
              "      <th>MonthlyCharges</th>\n",
              "      <th>TotalCharges</th>\n",
              "      <th>Churn</th>\n",
              "    </tr>\n",
              "  </thead>\n",
              "  <tbody>\n",
              "    <tr>\n",
              "      <th>2411</th>\n",
              "      <td>Male</td>\n",
              "      <td>0</td>\n",
              "      <td>No</td>\n",
              "      <td>Yes</td>\n",
              "      <td>60</td>\n",
              "      <td>Yes</td>\n",
              "      <td>Yes</td>\n",
              "      <td>DSL</td>\n",
              "      <td>Yes</td>\n",
              "      <td>No</td>\n",
              "      <td>Yes</td>\n",
              "      <td>Yes</td>\n",
              "      <td>Yes</td>\n",
              "      <td>Yes</td>\n",
              "      <td>Two year</td>\n",
              "      <td>Yes</td>\n",
              "      <td>Electronic check</td>\n",
              "      <td>84.95</td>\n",
              "      <td>4984.85</td>\n",
              "      <td>No</td>\n",
              "    </tr>\n",
              "    <tr>\n",
              "      <th>5118</th>\n",
              "      <td>Female</td>\n",
              "      <td>0</td>\n",
              "      <td>Yes</td>\n",
              "      <td>No</td>\n",
              "      <td>42</td>\n",
              "      <td>Yes</td>\n",
              "      <td>Yes</td>\n",
              "      <td>Fiber optic</td>\n",
              "      <td>No</td>\n",
              "      <td>No</td>\n",
              "      <td>Yes</td>\n",
              "      <td>Yes</td>\n",
              "      <td>No</td>\n",
              "      <td>No</td>\n",
              "      <td>Month-to-month</td>\n",
              "      <td>Yes</td>\n",
              "      <td>Credit card (automatic)</td>\n",
              "      <td>85.90</td>\n",
              "      <td>3729.75</td>\n",
              "      <td>No</td>\n",
              "    </tr>\n",
              "    <tr>\n",
              "      <th>5724</th>\n",
              "      <td>Male</td>\n",
              "      <td>0</td>\n",
              "      <td>No</td>\n",
              "      <td>No</td>\n",
              "      <td>1</td>\n",
              "      <td>Yes</td>\n",
              "      <td>No</td>\n",
              "      <td>Fiber optic</td>\n",
              "      <td>No</td>\n",
              "      <td>No</td>\n",
              "      <td>No</td>\n",
              "      <td>No</td>\n",
              "      <td>No</td>\n",
              "      <td>No</td>\n",
              "      <td>Month-to-month</td>\n",
              "      <td>Yes</td>\n",
              "      <td>Mailed check</td>\n",
              "      <td>71.35</td>\n",
              "      <td>71.35</td>\n",
              "      <td>Yes</td>\n",
              "    </tr>\n",
              "    <tr>\n",
              "      <th>4774</th>\n",
              "      <td>Female</td>\n",
              "      <td>0</td>\n",
              "      <td>Yes</td>\n",
              "      <td>No</td>\n",
              "      <td>53</td>\n",
              "      <td>Yes</td>\n",
              "      <td>Yes</td>\n",
              "      <td>Fiber optic</td>\n",
              "      <td>No</td>\n",
              "      <td>No</td>\n",
              "      <td>No</td>\n",
              "      <td>Yes</td>\n",
              "      <td>No</td>\n",
              "      <td>Yes</td>\n",
              "      <td>One year</td>\n",
              "      <td>Yes</td>\n",
              "      <td>Electronic check</td>\n",
              "      <td>91.15</td>\n",
              "      <td>4862.50</td>\n",
              "      <td>No</td>\n",
              "    </tr>\n",
              "    <tr>\n",
              "      <th>1877</th>\n",
              "      <td>Male</td>\n",
              "      <td>0</td>\n",
              "      <td>No</td>\n",
              "      <td>No</td>\n",
              "      <td>72</td>\n",
              "      <td>Yes</td>\n",
              "      <td>Yes</td>\n",
              "      <td>DSL</td>\n",
              "      <td>Yes</td>\n",
              "      <td>Yes</td>\n",
              "      <td>Yes</td>\n",
              "      <td>Yes</td>\n",
              "      <td>Yes</td>\n",
              "      <td>Yes</td>\n",
              "      <td>Two year</td>\n",
              "      <td>No</td>\n",
              "      <td>Credit card (automatic)</td>\n",
              "      <td>88.55</td>\n",
              "      <td>6362.35</td>\n",
              "      <td>No</td>\n",
              "    </tr>\n",
              "    <tr>\n",
              "      <th>131</th>\n",
              "      <td>Female</td>\n",
              "      <td>0</td>\n",
              "      <td>Yes</td>\n",
              "      <td>Yes</td>\n",
              "      <td>25</td>\n",
              "      <td>No</td>\n",
              "      <td>No</td>\n",
              "      <td>DSL</td>\n",
              "      <td>Yes</td>\n",
              "      <td>Yes</td>\n",
              "      <td>Yes</td>\n",
              "      <td>No</td>\n",
              "      <td>Yes</td>\n",
              "      <td>Yes</td>\n",
              "      <td>Month-to-month</td>\n",
              "      <td>Yes</td>\n",
              "      <td>Credit card (automatic)</td>\n",
              "      <td>58.60</td>\n",
              "      <td>1502.65</td>\n",
              "      <td>Yes</td>\n",
              "    </tr>\n",
              "    <tr>\n",
              "      <th>5631</th>\n",
              "      <td>Male</td>\n",
              "      <td>0</td>\n",
              "      <td>Yes</td>\n",
              "      <td>No</td>\n",
              "      <td>3</td>\n",
              "      <td>No</td>\n",
              "      <td>No</td>\n",
              "      <td>DSL</td>\n",
              "      <td>No</td>\n",
              "      <td>No</td>\n",
              "      <td>No</td>\n",
              "      <td>No</td>\n",
              "      <td>No</td>\n",
              "      <td>No</td>\n",
              "      <td>Month-to-month</td>\n",
              "      <td>No</td>\n",
              "      <td>Mailed check</td>\n",
              "      <td>25.00</td>\n",
              "      <td>78.25</td>\n",
              "      <td>No</td>\n",
              "    </tr>\n",
              "    <tr>\n",
              "      <th>4028</th>\n",
              "      <td>Male</td>\n",
              "      <td>0</td>\n",
              "      <td>No</td>\n",
              "      <td>No</td>\n",
              "      <td>63</td>\n",
              "      <td>Yes</td>\n",
              "      <td>No</td>\n",
              "      <td>Fiber optic</td>\n",
              "      <td>Yes</td>\n",
              "      <td>Yes</td>\n",
              "      <td>Yes</td>\n",
              "      <td>Yes</td>\n",
              "      <td>Yes</td>\n",
              "      <td>Yes</td>\n",
              "      <td>Two year</td>\n",
              "      <td>No</td>\n",
              "      <td>Credit card (automatic)</td>\n",
              "      <td>109.20</td>\n",
              "      <td>7049.75</td>\n",
              "      <td>No</td>\n",
              "    </tr>\n",
              "    <tr>\n",
              "      <th>5588</th>\n",
              "      <td>Male</td>\n",
              "      <td>0</td>\n",
              "      <td>No</td>\n",
              "      <td>No</td>\n",
              "      <td>1</td>\n",
              "      <td>Yes</td>\n",
              "      <td>No</td>\n",
              "      <td>DSL</td>\n",
              "      <td>No</td>\n",
              "      <td>No</td>\n",
              "      <td>Yes</td>\n",
              "      <td>No</td>\n",
              "      <td>No</td>\n",
              "      <td>No</td>\n",
              "      <td>Month-to-month</td>\n",
              "      <td>Yes</td>\n",
              "      <td>Mailed check</td>\n",
              "      <td>49.65</td>\n",
              "      <td>49.65</td>\n",
              "      <td>Yes</td>\n",
              "    </tr>\n",
              "    <tr>\n",
              "      <th>3013</th>\n",
              "      <td>Female</td>\n",
              "      <td>0</td>\n",
              "      <td>No</td>\n",
              "      <td>No</td>\n",
              "      <td>29</td>\n",
              "      <td>Yes</td>\n",
              "      <td>Yes</td>\n",
              "      <td>DSL</td>\n",
              "      <td>No</td>\n",
              "      <td>No</td>\n",
              "      <td>No</td>\n",
              "      <td>No</td>\n",
              "      <td>Yes</td>\n",
              "      <td>Yes</td>\n",
              "      <td>One year</td>\n",
              "      <td>Yes</td>\n",
              "      <td>Credit card (automatic)</td>\n",
              "      <td>71.00</td>\n",
              "      <td>2080.10</td>\n",
              "      <td>No</td>\n",
              "    </tr>\n",
              "  </tbody>\n",
              "</table>\n",
              "</div>"
            ],
            "text/plain": [
              "      gender  SeniorCitizen Partner Dependents  tenure PhoneService  \\\n",
              "2411    Male              0      No        Yes      60          Yes   \n",
              "5118  Female              0     Yes         No      42          Yes   \n",
              "5724    Male              0      No         No       1          Yes   \n",
              "4774  Female              0     Yes         No      53          Yes   \n",
              "1877    Male              0      No         No      72          Yes   \n",
              "131   Female              0     Yes        Yes      25           No   \n",
              "5631    Male              0     Yes         No       3           No   \n",
              "4028    Male              0      No         No      63          Yes   \n",
              "5588    Male              0      No         No       1          Yes   \n",
              "3013  Female              0      No         No      29          Yes   \n",
              "\n",
              "     MultipleLines InternetService OnlineSecurity OnlineBackup  \\\n",
              "2411           Yes             DSL            Yes           No   \n",
              "5118           Yes     Fiber optic             No           No   \n",
              "5724            No     Fiber optic             No           No   \n",
              "4774           Yes     Fiber optic             No           No   \n",
              "1877           Yes             DSL            Yes          Yes   \n",
              "131             No             DSL            Yes          Yes   \n",
              "5631            No             DSL             No           No   \n",
              "4028            No     Fiber optic            Yes          Yes   \n",
              "5588            No             DSL             No           No   \n",
              "3013           Yes             DSL             No           No   \n",
              "\n",
              "     DeviceProtection TechSupport StreamingTV StreamingMovies        Contract  \\\n",
              "2411              Yes         Yes         Yes             Yes        Two year   \n",
              "5118              Yes         Yes          No              No  Month-to-month   \n",
              "5724               No          No          No              No  Month-to-month   \n",
              "4774               No         Yes          No             Yes        One year   \n",
              "1877              Yes         Yes         Yes             Yes        Two year   \n",
              "131               Yes          No         Yes             Yes  Month-to-month   \n",
              "5631               No          No          No              No  Month-to-month   \n",
              "4028              Yes         Yes         Yes             Yes        Two year   \n",
              "5588              Yes          No          No              No  Month-to-month   \n",
              "3013               No          No         Yes             Yes        One year   \n",
              "\n",
              "     PaperlessBilling            PaymentMethod  MonthlyCharges  TotalCharges  \\\n",
              "2411              Yes         Electronic check           84.95       4984.85   \n",
              "5118              Yes  Credit card (automatic)           85.90       3729.75   \n",
              "5724              Yes             Mailed check           71.35         71.35   \n",
              "4774              Yes         Electronic check           91.15       4862.50   \n",
              "1877               No  Credit card (automatic)           88.55       6362.35   \n",
              "131               Yes  Credit card (automatic)           58.60       1502.65   \n",
              "5631               No             Mailed check           25.00         78.25   \n",
              "4028               No  Credit card (automatic)          109.20       7049.75   \n",
              "5588              Yes             Mailed check           49.65         49.65   \n",
              "3013              Yes  Credit card (automatic)           71.00       2080.10   \n",
              "\n",
              "     Churn  \n",
              "2411    No  \n",
              "5118    No  \n",
              "5724   Yes  \n",
              "4774    No  \n",
              "1877    No  \n",
              "131    Yes  \n",
              "5631    No  \n",
              "4028    No  \n",
              "5588   Yes  \n",
              "3013    No  "
            ]
          },
          "metadata": {
            "tags": []
          },
          "execution_count": 5
        }
      ]
    },
    {
      "cell_type": "markdown",
      "metadata": {
        "id": "bpuABP9Ue-Ao",
        "colab_type": "text"
      },
      "source": [
        "# Baseline Keras Model"
      ]
    },
    {
      "cell_type": "code",
      "metadata": {
        "id": "Eps88WJTe-Ap",
        "colab_type": "code",
        "colab": {},
        "outputId": "dc17ed6d-e8c3-4ff6-cc78-d36afb10266b"
      },
      "source": [
        "# Imports\n",
        "from sklearn.model_selection import GridSearchCV, train_test_split\n",
        "from sklearn.preprocessing import LabelEncoder\n",
        "from sklearn.preprocessing import StandardScaler\n",
        "from tensorflow.keras.models import Sequential\n",
        "from tensorflow.keras.layers import Dense\n",
        "import tensorflow as tf\n",
        "\n",
        "X = df.drop(columns='Churn')  # Features\n",
        "y = df['Churn']\n",
        "\n",
        "encoder = LabelEncoder()\n",
        "\n",
        "X_enc = X.apply(encoder.fit_transform)\n",
        "y_enc = encoder.fit_transform(y)\n",
        "\n",
        "\n",
        "print('Encoded X Shape:', X_enc.shape)\n",
        "print('Encoded y Shape:', y_enc.shape)"
      ],
      "execution_count": 0,
      "outputs": [
        {
          "output_type": "stream",
          "text": [
            "Encoded X Shape: (7032, 19)\n",
            "Encoded y Shape: (7032,)\n"
          ],
          "name": "stdout"
        }
      ]
    },
    {
      "cell_type": "code",
      "metadata": {
        "id": "2aEORBERe-A_",
        "colab_type": "code",
        "colab": {}
      },
      "source": [
        "# Scale our data.\n",
        "\n",
        "scaler = StandardScaler()\n",
        "\n",
        "X_scaled = scaler.fit_transform(X_enc)"
      ],
      "execution_count": 0,
      "outputs": []
    },
    {
      "cell_type": "code",
      "metadata": {
        "id": "TOeK1gJve-BI",
        "colab_type": "code",
        "colab": {},
        "outputId": "69959873-0b23-4810-d77d-dbc71443f399"
      },
      "source": [
        "# Train-Test-Split\n",
        "X_train, X_test, y_train, y_test = train_test_split(X_scaled, y_enc, test_size=0.33, random_state=42)\n",
        "\n",
        "print(f'X_train Shape: {X_train.shape}')\n",
        "print(f'y_train Shape: {y_train.shape}')\n",
        "\n",
        "print('')\n",
        "\n",
        "print(f'X_test Shape: {X_test.shape}')\n",
        "print(f'y_test Shape: {y_test.shape}')"
      ],
      "execution_count": 0,
      "outputs": [
        {
          "output_type": "stream",
          "text": [
            "X_train Shape: (4711, 19)\n",
            "y_train Shape: (4711,)\n",
            "\n",
            "X_test Shape: (2321, 19)\n",
            "y_test Shape: (2321,)\n"
          ],
          "name": "stdout"
        }
      ]
    },
    {
      "cell_type": "code",
      "metadata": {
        "id": "yxWWVXDVe-BO",
        "colab_type": "code",
        "colab": {}
      },
      "source": [
        "# Baseline Model\n",
        "\n",
        "bl_model = Sequential([\n",
        "                       Dense(20, activation='sigmoid', input_dim=19, name='InputLayer'),\n",
        "                       Dense(20, activation='sigmoid', name='Hidden1'),\n",
        "                       Dense(20, activation='sigmoid', name='Hidden2'),\n",
        "                       Dense(1, activation='sigmoid', name='OutputLayer')\n",
        "])\n",
        "\n",
        "bl_model.compile(optimizer='adam', loss='binary_crossentropy', metrics=['accuracy'])\n",
        "\n",
        "bl_model_fit = bl_model.fit(X_train, y_train, epochs=50, verbose=False)"
      ],
      "execution_count": 0,
      "outputs": []
    },
    {
      "cell_type": "code",
      "metadata": {
        "id": "Dn7tTHMKe-BY",
        "colab_type": "code",
        "colab": {},
        "outputId": "c942d1f3-1288-4b47-9761-5773f2fa79ea"
      },
      "source": [
        "# Check out model performance\n",
        "import matplotlib.pyplot as plt\n",
        "plt.plot(bl_model_fit.history['loss'])\n",
        "plt.title('Baseline Model Performance')\n",
        "plt.xlabel('Number of Epochs')\n",
        "plt.ylabel('Loss')\n",
        "plt.show();"
      ],
      "execution_count": 0,
      "outputs": [
        {
          "output_type": "display_data",
          "data": {
            "image/png": "[encoded data removed]",
            "text/plain": [
              "<Figure size 432x288 with 1 Axes>"
            ]
          },
          "metadata": {
            "tags": [],
            "needs_background": "light"
          }
        }
      ]
    },
    {
      "cell_type": "markdown",
      "metadata": {
        "id": "IDHRs0vge-Bh",
        "colab_type": "text"
      },
      "source": [
        "# Hyperparameter Tuning"
      ]
    },
    {
      "cell_type": "code",
      "metadata": {
        "id": "JzZ9oM05e-Bl",
        "colab_type": "code",
        "colab": {}
      },
      "source": [
        "from tensorflow.keras.wrappers.scikit_learn import KerasClassifier\n",
        "from tensorflow.keras.layers import Dropout\n",
        "import warnings\n",
        "\n",
        "warnings.filterwarnings(\"ignore\", category=UserWarning)  # Ignore UserWarnings\n",
        "\n",
        "# Create model wrapper\n",
        "\n",
        "def create_model(n_neurons=20, optimizer='adam', learning_rate=0.1,\n",
        "                 activation='relu', init_mode='glorot_uniform',\n",
        "                dropout_rate=0.0):\n",
        "    \n",
        "    # Instantiate Model\n",
        "    model = Sequential()\n",
        "    \n",
        "    # Input Layer\n",
        "    model.add(Dense(n_neurons, activation=activation, \n",
        "                    kernel_initializer=init_mode, \n",
        "                    input_dim=X_train.shape[1], name='InputLayer'))\n",
        "    # Hidden Layers\n",
        "    model.add(Dense(n_neurons, activation=activation))\n",
        "    model.add(Dropout(dropout_rate))\n",
        "    model.add(Dense(n_neurons, activation=activation))\n",
        "    model.add(Dropout(dropout_rate))\n",
        "    \n",
        "    # Output Layer\n",
        "    model.add(Dense(1, activation='sigmoid', name='OutputLayer'))\n",
        "    \n",
        "    # Compile our Model\n",
        "    model.compile(optimizer=optimizer, loss='binary_crossentropy', metrics=['accuracy'])\n",
        "              \n",
        "    return model"
      ],
      "execution_count": 0,
      "outputs": []
    },
    {
      "cell_type": "markdown",
      "metadata": {
        "id": "54gmKoROe-Bv",
        "colab_type": "text"
      },
      "source": [
        "## Batch Size"
      ]
    },
    {
      "cell_type": "code",
      "metadata": {
        "id": "1CIdHiWDe-Bx",
        "colab_type": "code",
        "colab": {},
        "outputId": "d9e617d9-da2b-4d1e-b0ed-dcff2dbd639c"
      },
      "source": [
        "# Define Grid Search Parameters\n",
        "model = KerasClassifier(build_fn=create_model, verbose=False)\n",
        "\n",
        "param_grid = {\n",
        "               'batch_size': [10, 25, 50, 75, 100, 200, 250],\n",
        "               'epochs': [50]\n",
        "             }\n",
        "\n",
        "gridcv = GridSearchCV(estimator=model, param_grid=param_grid, n_jobs=-1, cv=3)\n",
        "gridcv_result = gridcv.fit(X_train, y_train, validation_data=(X_test, y_test))\n",
        "\n",
        "print(f\"Best: {gridcv_result.best_score_} using {gridcv_result.best_params_}\")\n",
        "batch_size = gridcv_result.best_params_['batch_size']"
      ],
      "execution_count": 0,
      "outputs": [
        {
          "output_type": "stream",
          "text": [
            "Best: 0.7924015522003174 using {'batch_size': 100, 'epochs': 50}\n"
          ],
          "name": "stdout"
        }
      ]
    },
    {
      "cell_type": "markdown",
      "metadata": {
        "id": "pf9I92cde-B8",
        "colab_type": "text"
      },
      "source": [
        "## Epochs"
      ]
    },
    {
      "cell_type": "code",
      "metadata": {
        "id": "eUeN0P12e-B-",
        "colab_type": "code",
        "colab": {},
        "outputId": "42d34fdd-240a-47fa-b77a-d08d82d06069"
      },
      "source": [
        "# Define Grid Search Parameters\n",
        "param_grid = {\n",
        "               'batch_size': [batch_size],\n",
        "               'epochs': [25, 50, 75, 100, 125, 150]\n",
        "}\n",
        "\n",
        "gridcv = GridSearchCV(estimator=model, param_grid=param_grid, n_jobs=-1, cv=3)\n",
        "gridcv_result = gridcv.fit(X_train, y_train, validation_data=(X_test, y_test))\n",
        "\n",
        "print(f\"Best: {gridcv_result.best_score_} using {gridcv_result.best_params_}\")\n",
        "epochs = gridcv_result.best_params_['epochs']"
      ],
      "execution_count": 0,
      "outputs": [
        {
          "output_type": "stream",
          "text": [
            "Best: 0.7994073828061422 using {'batch_size': 100, 'epochs': 25}\n"
          ],
          "name": "stdout"
        }
      ]
    },
    {
      "cell_type": "markdown",
      "metadata": {
        "id": "wvIezy0Re-CJ",
        "colab_type": "text"
      },
      "source": [
        "## Optimizer"
      ]
    },
    {
      "cell_type": "code",
      "metadata": {
        "id": "Uqhd9maoe-CL",
        "colab_type": "code",
        "colab": {},
        "outputId": "0edcafdf-e4ff-46d3-f6f0-2e68123da19b"
      },
      "source": [
        "# Define Grid Search Parameters\n",
        "param_grid = {\n",
        "               'batch_size': [batch_size],\n",
        "               'epochs': [epochs],\n",
        "               'optimizer': ['adam', 'adamax', 'nadam']\n",
        "}\n",
        "\n",
        "gridcv = GridSearchCV(estimator=model, param_grid=param_grid, n_jobs=-1, cv=3)\n",
        "gridcv_result = gridcv.fit(X_train, y_train, validation_data=(X_test, y_test))\n",
        "\n",
        "print(f\"Best: {gridcv_result.best_score_} using {gridcv_result.best_params_}\")\n",
        "optimizer = gridcv_result.best_params_['optimizer']"
      ],
      "execution_count": 0,
      "outputs": [
        {
          "output_type": "stream",
          "text": [
            "Best: 0.7983447313308716 using {'batch_size': 100, 'epochs': 25, 'optimizer': 'adam'}\n"
          ],
          "name": "stdout"
        }
      ]
    },
    {
      "cell_type": "markdown",
      "metadata": {
        "id": "tMRv8zs8e-Ca",
        "colab_type": "text"
      },
      "source": [
        "## Learning Rate"
      ]
    },
    {
      "cell_type": "code",
      "metadata": {
        "id": "I32f7haee-Cd",
        "colab_type": "code",
        "colab": {}
      },
      "source": [
        "# How would I go about updating this more naturally?\n",
        "\n",
        "def create_model(n_neurons=20, optimizer=optimizer, learning_rate=0.1,\n",
        "                 activation='relu', init_mode='glorot_uniform',\n",
        "                dropout_rate=0.0):\n",
        "    \n",
        "    # Instantiate Model\n",
        "    model = Sequential()\n",
        "    \n",
        "    # Input Layer\n",
        "    model.add(Dense(n_neurons, activation=activation, \n",
        "                    kernel_initializer=init_mode, \n",
        "                    input_dim=X_train.shape[1], name='InputLayer'))\n",
        "    # Hidden Layers\n",
        "    model.add(Dense(n_neurons, activation=activation))\n",
        "    model.add(Dropout(dropout_rate))\n",
        "    model.add(Dense(n_neurons, activation=activation))\n",
        "    model.add(Dropout(dropout_rate))\n",
        "    \n",
        "    # Output Layer\n",
        "    model.add(Dense(1, activation='sigmoid', name='OutputLayer'))\n",
        "    \n",
        "    optimizer = tf.optimizers.Adam(lr=learning_rate)  # This is what I updated.\n",
        "    \n",
        "    # Compile our Model\n",
        "    model.compile(optimizer=optimizer, loss='binary_crossentropy', metrics=['accuracy'])\n",
        "              \n",
        "    return model\n",
        "\n",
        "model = KerasClassifier(build_fn=create_model, verbose=False)  # Build new model"
      ],
      "execution_count": 0,
      "outputs": []
    },
    {
      "cell_type": "code",
      "metadata": {
        "id": "tnwizioSe-Ct",
        "colab_type": "code",
        "colab": {},
        "outputId": "6a411ce6-94df-4355-8d40-06ab4919a46d"
      },
      "source": [
        "# Define Grid Search Parameters\n",
        "param_grid = {\n",
        "               'batch_size': [batch_size],\n",
        "               'epochs': [epochs],\n",
        "               'optimizer': [optimizer],\n",
        "               'learning_rate': [0.01, 0.1, 0.2, 0.25, 0.35, 0.45]\n",
        "}\n",
        "\n",
        "gridcv = GridSearchCV(estimator=model, param_grid=param_grid, n_jobs=-1, cv=3)\n",
        "gridcv_result = gridcv.fit(X_train, y_train, validation_data=(X_test, y_test))\n",
        "\n",
        "print(f\"Best: {gridcv_result.best_score_} using {gridcv_result.best_params_}\")\n",
        "learning_rate = gridcv_result.best_params_['learning_rate']"
      ],
      "execution_count": 0,
      "outputs": [
        {
          "output_type": "stream",
          "text": [
            "Best: 0.7849705616633097 using {'batch_size': 100, 'epochs': 25, 'learning_rate': 0.1, 'optimizer': 'adam'}\n"
          ],
          "name": "stdout"
        }
      ]
    },
    {
      "cell_type": "markdown",
      "metadata": {
        "id": "r3LtBk-Se-C7",
        "colab_type": "text"
      },
      "source": [
        "## Momentum\n",
        "\n",
        "- There is no momentum for our Optimizer (Adam)"
      ]
    },
    {
      "cell_type": "markdown",
      "metadata": {
        "id": "DT5stArde-C9",
        "colab_type": "text"
      },
      "source": [
        "## Activation Functions"
      ]
    },
    {
      "cell_type": "code",
      "metadata": {
        "id": "08muu5Vme-C-",
        "colab_type": "code",
        "colab": {},
        "outputId": "41679697-028a-4541-a9c9-e58d26ef9c95"
      },
      "source": [
        "# Define Grid Search Parameters\n",
        "param_grid = {\n",
        "               'batch_size': [batch_size],\n",
        "               'epochs': [epochs],\n",
        "               'optimizer': [optimizer],\n",
        "               'learning_rate': [learning_rate],\n",
        "               'activation': ['relu', 'leakyrelu', 'softmax', 'sigmoid']\n",
        "}\n",
        "\n",
        "gridcv = GridSearchCV(estimator=model, param_grid=param_grid, n_jobs=-1, cv=3)\n",
        "gridcv_result = gridcv.fit(X_train, y_train, validation_data=(X_test, y_test))\n",
        "\n",
        "print(f\"Best: {gridcv_result.best_score_} using {gridcv_result.best_params_}\")\n",
        "activation = gridcv_result.best_params_['activation']"
      ],
      "execution_count": 0,
      "outputs": [
        {
          "output_type": "stream",
          "text": [
            "Best: 0.7858215769131979 using {'activation': 'softmax', 'batch_size': 100, 'epochs': 25, 'learning_rate': 0.1, 'optimizer': 'adam'}\n"
          ],
          "name": "stdout"
        }
      ]
    },
    {
      "cell_type": "markdown",
      "metadata": {
        "id": "uv_IEbUwe-DE",
        "colab_type": "text"
      },
      "source": [
        "## Weight Initialization"
      ]
    },
    {
      "cell_type": "code",
      "metadata": {
        "id": "mua4VBkee-DF",
        "colab_type": "code",
        "colab": {},
        "outputId": "b7e81461-dff4-4072-e4aa-5815499e55ff"
      },
      "source": [
        "# Define Grid Search Parameters\n",
        "param_grid = {\n",
        "               'batch_size': [batch_size],\n",
        "               'epochs': [epochs],\n",
        "               'optimizer': [optimizer],\n",
        "               'learning_rate': [learning_rate],\n",
        "               'activation': [activation],\n",
        "               'init_mode': ['uniform', 'lecun_uniform', 'normal',\n",
        "                            'zero', 'glorot_normal', 'glorot_uniform',\n",
        "                            'he_normal', 'he_uniform']\n",
        "}\n",
        "\n",
        "gridcv = GridSearchCV(estimator=model, param_grid=param_grid, n_jobs=-1, cv=3)\n",
        "gridcv_result = gridcv.fit(X_train, y_train, validation_data=(X_test, y_test))\n",
        "\n",
        "print(f\"Best: {gridcv_result.best_score_} using {gridcv_result.best_params_}\")\n",
        "init_mode = gridcv_result.best_params_['init_mode']"
      ],
      "execution_count": 0,
      "outputs": [
        {
          "output_type": "stream",
          "text": [
            "Best: 0.7851845026016235 using {'activation': 'softmax', 'batch_size': 100, 'epochs': 25, 'init_mode': 'he_uniform', 'learning_rate': 0.1, 'optimizer': 'adam'}\n"
          ],
          "name": "stdout"
        }
      ]
    },
    {
      "cell_type": "markdown",
      "metadata": {
        "id": "051LmtD7e-DZ",
        "colab_type": "text"
      },
      "source": [
        "## Dropout Regularization"
      ]
    },
    {
      "cell_type": "code",
      "metadata": {
        "id": "J1-b1ZOne-Dg",
        "colab_type": "code",
        "colab": {},
        "outputId": "aa8847ec-2719-4d83-bcca-79f54f0d8eae"
      },
      "source": [
        "# Define Grid Search Parameters\n",
        "param_grid = {\n",
        "               'batch_size': [batch_size],\n",
        "               'epochs': [epochs],\n",
        "               'optimizer': [optimizer],\n",
        "               'learning_rate': [learning_rate],\n",
        "               'activation': [activation],\n",
        "               'init_mode': [init_mode],\n",
        "               'dropout_rate': [0.01, 0.025, 0.3, 0.4, 0.05, 0.1]\n",
        "}\n",
        "\n",
        "gridcv = GridSearchCV(estimator=model, param_grid=param_grid, n_jobs=-1, cv=3)\n",
        "gridcv_result = gridcv.fit(X_train, y_train, validation_data=(X_test, y_test))\n",
        "\n",
        "print(f\"Best: {gridcv_result.best_score_} using {gridcv_result.best_params_}\")\n",
        "dropout_rate = gridcv_result.best_params_['dropout_rate']"
      ],
      "execution_count": 0,
      "outputs": [
        {
          "output_type": "stream",
          "text": [
            "Best: 0.7836992541948954 using {'activation': 'softmax', 'batch_size': 100, 'dropout_rate': 0.1, 'epochs': 25, 'init_mode': 'he_uniform', 'learning_rate': 0.1, 'optimizer': 'adam'}\n"
          ],
          "name": "stdout"
        }
      ]
    },
    {
      "cell_type": "markdown",
      "metadata": {
        "id": "E3c6wY4le-D1",
        "colab_type": "text"
      },
      "source": [
        "## Number of Neurons"
      ]
    },
    {
      "cell_type": "code",
      "metadata": {
        "id": "FR16UxpRe-D7",
        "colab_type": "code",
        "colab": {},
        "outputId": "5962a1d9-207b-4fc2-d769-6c5d5237e728"
      },
      "source": [
        "# Define Grid Search Parameters\n",
        "param_grid = {\n",
        "               'batch_size': [batch_size],\n",
        "               'epochs': [epochs],\n",
        "               'optimizer': [optimizer],\n",
        "               'learning_rate': [learning_rate],\n",
        "               'activation': [activation],\n",
        "               'init_mode': [init_mode],\n",
        "               'dropout_rate': [dropout_rate],\n",
        "               'n_neurons': [25, 50, 75, 100, 125, 150]\n",
        "}\n",
        "\n",
        "gridcv = GridSearchCV(estimator=model, param_grid=param_grid, n_jobs=-1, cv=3)\n",
        "gridcv_result = gridcv.fit(X_train, y_train, validation_data=(X_test, y_test))\n",
        "\n",
        "print(f\"Best: {gridcv_result.best_score_} using {gridcv_result.best_params_}\")\n",
        "n_neurons = gridcv_result.best_params_['n_neurons']"
      ],
      "execution_count": 0,
      "outputs": [
        {
          "output_type": "stream",
          "text": [
            "Best: 0.7907041112581888 using {'activation': 'softmax', 'batch_size': 100, 'dropout_rate': 0.1, 'epochs': 25, 'init_mode': 'he_uniform', 'learning_rate': 0.1, 'n_neurons': 50, 'optimizer': 'adam'}\n"
          ],
          "name": "stdout"
        }
      ]
    },
    {
      "cell_type": "markdown",
      "metadata": {
        "id": "l8x4tr4ne-EV",
        "colab_type": "text"
      },
      "source": [
        "# Final Results! (Model Evaluation)"
      ]
    },
    {
      "cell_type": "code",
      "metadata": {
        "id": "HSxcyxfke-EW",
        "colab_type": "code",
        "colab": {},
        "outputId": "c562f1a4-82e7-494b-fd91-396af71444ca"
      },
      "source": [
        "model = create_model(n_neurons=n_neurons, optimizer=optimizer, learning_rate=learning_rate,\n",
        "                     activation=activation, init_mode=init_mode, dropout_rate=dropout_rate)\n",
        "\n",
        "model.fit(X_train, y_train,\n",
        "          validation_data=(X_test, y_test),\n",
        "          epochs=epochs, verbose=False)\n",
        "\n",
        "model_results = model.evaluate(X_test, y_test, verbose=False)\n",
        "\n",
        "print('Model Accuracy:', f'{round(model_results[1] * 100, 3)}%')\n",
        "print('======================================')\n",
        "print('Achieved With Parameters:')\n",
        "print('Number of Epochs:', epochs)\n",
        "print('Batch Size:', batch_size)\n",
        "print('Optimizer:', optimizer, f'(Learning Rate: {learning_rate})')\n",
        "print('Activation Function:', activation)\n",
        "print('Weight Initilization (kernel_initilizer):', init_mode)\n",
        "print('Dropout Rate:', dropout_rate)\n",
        "print('Number of Neurons:', n_neurons)"
      ],
      "execution_count": 0,
      "outputs": [
        {
          "output_type": "stream",
          "text": [
            "Model Accuracy: 78.242%\n",
            "======================================\n",
            "Achieved With Parameters:\n",
            "Number of Epochs: 25\n",
            "Batch Size: 100\n",
            "Optimizer: adam (Learning Rate: 0.1)\n",
            "Activation Function: softmax\n",
            "Weight Initilization (kernel_initilizer): he_uniform\n",
            "Dropout Rate: 0.1\n",
            "Number of Neurons: 50\n"
          ],
          "name": "stdout"
        }
      ]
    },
    {
      "cell_type": "markdown",
      "metadata": {
        "colab_type": "text",
        "id": "FfZRtJ7MCN3x"
      },
      "source": [
        "## Stretch Goals:\n",
        "\n",
        "- Try to implement Random Search Hyperparameter Tuning on this dataset\n",
        "- Try to implement Bayesian Optimiation tuning on this dataset using hyperas or hyperopt (if you're brave)\n",
        "- Practice hyperparameter tuning other datasets that we have looked at. How high can you get MNIST? Above 99%?\n",
        "- Study for the Sprint Challenge\n",
        " - Can you implement both perceptron and MLP models from scratch with forward and backpropagation?\n",
        " - Can you implement both perceptron and MLP models in keras and tune their hyperparameters with cross validation?"
      ]
    }
  ]
}