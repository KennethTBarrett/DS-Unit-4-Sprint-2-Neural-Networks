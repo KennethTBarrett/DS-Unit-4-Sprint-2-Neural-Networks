{
  "nbformat": 4,
  "nbformat_minor": 0,
  "metadata": {
    "colab": {
      "name": "LS_DS_424_Hyperparameter_Tuning_Assignment.ipynb",
      "provenance": []
    },
    "kernelspec": {
      "display_name": "U4S2",
      "language": "python",
      "name": "u4s2"
    },
    "language_info": {
      "codemirror_mode": {
        "name": "ipython",
        "version": 3
      },
      "file_extension": ".py",
      "mimetype": "text/x-python",
      "name": "python",
      "nbconvert_exporter": "python",
      "pygments_lexer": "ipython3",
      "version": "3.7.0"
    }
  },
  "cells": [
    {
      "cell_type": "markdown",
      "metadata": {
        "colab_type": "text",
        "id": "9Ryp-TVm4njD"
      },
      "source": [
        "<img align=\"left\" src=\"https://lever-client-logos.s3.amazonaws.com/864372b1-534c-480e-acd5-9711f850815c-1524247202159.png\" width=200>\n",
        "<br></br>\n",
        "\n",
        "# Hyperparameter Tuning\n",
        "\n",
        "## *Data Science Unit 4 Sprint 2 Assignment 4*\n",
        "\n",
        "## Your Mission, should you choose to accept it...\n",
        "\n",
        "To hyperparameter tune and extract every ounce of accuracy out of this telecom customer churn dataset: [Available Here](https://lambdaschool-data-science.s3.amazonaws.com/telco-churn/WA_Fn-UseC_-Telco-Customer-Churn+(1).csv)\n",
        "\n",
        "## Requirements\n",
        "\n",
        "- Load the data ✔\n",
        "- Clean the data if necessary (it will be) ✔\n",
        "- Create and fit a baseline Keras MLP model to the data. ✔\n",
        "- Hyperparameter tune (at least) the following parameters:\n",
        " - batch_size ✔\n",
        " - training epochs ✔\n",
        " - optimizer ✔\n",
        " - learning rate (if applicable to optimizer) ✔\n",
        " - momentum (if applicable to optimizer) ✔ (Not Applicable)\n",
        " - activation functions ✔\n",
        " - network weight initialization ✔\n",
        " - dropout regularization ✔\n",
        " - number of neurons in the hidden layer ✔\n",
        " \n",
        " You must use Grid Search and Cross Validation for your initial pass of the above hyperparameters\n",
        " \n",
        " Try and get the maximum accuracy possible out of this data! You'll save big telecoms millions! Doesn't that sound great?\n"
      ]
    },
    {
      "cell_type": "code",
      "metadata": {
        "colab_type": "code",
        "id": "NNJ-tOBs4jM1",
        "colab": {}
      },
      "source": [
        "# Load and Clean Data"
      ],
      "execution_count": 0,
      "outputs": []
    },
    {
      "cell_type": "code",
      "metadata": {
        "id": "6wqfrE-TpabX",
        "colab_type": "code",
        "outputId": "d6bbe5e7-b363-49f4-fe8b-359e11519866",
        "colab": {
          "base_uri": "https://localhost:8080/",
          "height": 284
        }
      },
      "source": [
        "# Imports\n",
        "import pandas as pd\n",
        "import numpy as np\n",
        "\n",
        "# Fix random seed for reproducibility\n",
        "seed = 7\n",
        "np.random.seed(seed)\n",
        "\n",
        "url = 'https://lambdaschool-data-science.s3.amazonaws.com/telco-churn/WA_Fn-UseC_-Telco-Customer-Churn+(1).csv'\n",
        "    \n",
        "df = pd.read_csv(url)\n",
        "\n",
        "df.head()"
      ],
      "execution_count": 1,
      "outputs": [
        {
          "output_type": "execute_result",
          "data": {
            "text/html": [
              "<div>\n",
              "<style scoped>\n",
              "    .dataframe tbody tr th:only-of-type {\n",
              "        vertical-align: middle;\n",
              "    }\n",
              "\n",
              "    .dataframe tbody tr th {\n",
              "        vertical-align: top;\n",
              "    }\n",
              "\n",
              "    .dataframe thead th {\n",
              "        text-align: right;\n",
              "    }\n",
              "</style>\n",
              "<table border=\"1\" class=\"dataframe\">\n",
              "  <thead>\n",
              "    <tr style=\"text-align: right;\">\n",
              "      <th></th>\n",
              "      <th>customerID</th>\n",
              "      <th>gender</th>\n",
              "      <th>SeniorCitizen</th>\n",
              "      <th>Partner</th>\n",
              "      <th>Dependents</th>\n",
              "      <th>tenure</th>\n",
              "      <th>PhoneService</th>\n",
              "      <th>MultipleLines</th>\n",
              "      <th>InternetService</th>\n",
              "      <th>OnlineSecurity</th>\n",
              "      <th>OnlineBackup</th>\n",
              "      <th>DeviceProtection</th>\n",
              "      <th>TechSupport</th>\n",
              "      <th>StreamingTV</th>\n",
              "      <th>StreamingMovies</th>\n",
              "      <th>Contract</th>\n",
              "      <th>PaperlessBilling</th>\n",
              "      <th>PaymentMethod</th>\n",
              "      <th>MonthlyCharges</th>\n",
              "      <th>TotalCharges</th>\n",
              "      <th>Churn</th>\n",
              "    </tr>\n",
              "  </thead>\n",
              "  <tbody>\n",
              "    <tr>\n",
              "      <th>0</th>\n",
              "      <td>7590-VHVEG</td>\n",
              "      <td>Female</td>\n",
              "      <td>0</td>\n",
              "      <td>Yes</td>\n",
              "      <td>No</td>\n",
              "      <td>1</td>\n",
              "      <td>No</td>\n",
              "      <td>No phone service</td>\n",
              "      <td>DSL</td>\n",
              "      <td>No</td>\n",
              "      <td>Yes</td>\n",
              "      <td>No</td>\n",
              "      <td>No</td>\n",
              "      <td>No</td>\n",
              "      <td>No</td>\n",
              "      <td>Month-to-month</td>\n",
              "      <td>Yes</td>\n",
              "      <td>Electronic check</td>\n",
              "      <td>29.85</td>\n",
              "      <td>29.85</td>\n",
              "      <td>No</td>\n",
              "    </tr>\n",
              "    <tr>\n",
              "      <th>1</th>\n",
              "      <td>5575-GNVDE</td>\n",
              "      <td>Male</td>\n",
              "      <td>0</td>\n",
              "      <td>No</td>\n",
              "      <td>No</td>\n",
              "      <td>34</td>\n",
              "      <td>Yes</td>\n",
              "      <td>No</td>\n",
              "      <td>DSL</td>\n",
              "      <td>Yes</td>\n",
              "      <td>No</td>\n",
              "      <td>Yes</td>\n",
              "      <td>No</td>\n",
              "      <td>No</td>\n",
              "      <td>No</td>\n",
              "      <td>One year</td>\n",
              "      <td>No</td>\n",
              "      <td>Mailed check</td>\n",
              "      <td>56.95</td>\n",
              "      <td>1889.5</td>\n",
              "      <td>No</td>\n",
              "    </tr>\n",
              "    <tr>\n",
              "      <th>2</th>\n",
              "      <td>3668-QPYBK</td>\n",
              "      <td>Male</td>\n",
              "      <td>0</td>\n",
              "      <td>No</td>\n",
              "      <td>No</td>\n",
              "      <td>2</td>\n",
              "      <td>Yes</td>\n",
              "      <td>No</td>\n",
              "      <td>DSL</td>\n",
              "      <td>Yes</td>\n",
              "      <td>Yes</td>\n",
              "      <td>No</td>\n",
              "      <td>No</td>\n",
              "      <td>No</td>\n",
              "      <td>No</td>\n",
              "      <td>Month-to-month</td>\n",
              "      <td>Yes</td>\n",
              "      <td>Mailed check</td>\n",
              "      <td>53.85</td>\n",
              "      <td>108.15</td>\n",
              "      <td>Yes</td>\n",
              "    </tr>\n",
              "    <tr>\n",
              "      <th>3</th>\n",
              "      <td>7795-CFOCW</td>\n",
              "      <td>Male</td>\n",
              "      <td>0</td>\n",
              "      <td>No</td>\n",
              "      <td>No</td>\n",
              "      <td>45</td>\n",
              "      <td>No</td>\n",
              "      <td>No phone service</td>\n",
              "      <td>DSL</td>\n",
              "      <td>Yes</td>\n",
              "      <td>No</td>\n",
              "      <td>Yes</td>\n",
              "      <td>Yes</td>\n",
              "      <td>No</td>\n",
              "      <td>No</td>\n",
              "      <td>One year</td>\n",
              "      <td>No</td>\n",
              "      <td>Bank transfer (automatic)</td>\n",
              "      <td>42.30</td>\n",
              "      <td>1840.75</td>\n",
              "      <td>No</td>\n",
              "    </tr>\n",
              "    <tr>\n",
              "      <th>4</th>\n",
              "      <td>9237-HQITU</td>\n",
              "      <td>Female</td>\n",
              "      <td>0</td>\n",
              "      <td>No</td>\n",
              "      <td>No</td>\n",
              "      <td>2</td>\n",
              "      <td>Yes</td>\n",
              "      <td>No</td>\n",
              "      <td>Fiber optic</td>\n",
              "      <td>No</td>\n",
              "      <td>No</td>\n",
              "      <td>No</td>\n",
              "      <td>No</td>\n",
              "      <td>No</td>\n",
              "      <td>No</td>\n",
              "      <td>Month-to-month</td>\n",
              "      <td>Yes</td>\n",
              "      <td>Electronic check</td>\n",
              "      <td>70.70</td>\n",
              "      <td>151.65</td>\n",
              "      <td>Yes</td>\n",
              "    </tr>\n",
              "  </tbody>\n",
              "</table>\n",
              "</div>"
            ],
            "text/plain": [
              "   customerID  gender  SeniorCitizen  ... MonthlyCharges TotalCharges  Churn\n",
              "0  7590-VHVEG  Female              0  ...          29.85        29.85     No\n",
              "1  5575-GNVDE    Male              0  ...          56.95       1889.5     No\n",
              "2  3668-QPYBK    Male              0  ...          53.85       108.15    Yes\n",
              "3  7795-CFOCW    Male              0  ...          42.30      1840.75     No\n",
              "4  9237-HQITU  Female              0  ...          70.70       151.65    Yes\n",
              "\n",
              "[5 rows x 21 columns]"
            ]
          },
          "metadata": {
            "tags": []
          },
          "execution_count": 1
        }
      ]
    },
    {
      "cell_type": "code",
      "metadata": {
        "id": "niWRehNKpabe",
        "colab_type": "code",
        "outputId": "9b290e5f-d7c9-4573-86f6-e508a57c590a",
        "colab": {
          "base_uri": "https://localhost:8080/",
          "height": 432
        }
      },
      "source": [
        "df.dtypes"
      ],
      "execution_count": 2,
      "outputs": [
        {
          "output_type": "execute_result",
          "data": {
            "text/plain": [
              "customerID           object\n",
              "gender               object\n",
              "SeniorCitizen         int64\n",
              "Partner              object\n",
              "Dependents           object\n",
              "tenure                int64\n",
              "PhoneService         object\n",
              "MultipleLines        object\n",
              "InternetService      object\n",
              "OnlineSecurity       object\n",
              "OnlineBackup         object\n",
              "DeviceProtection     object\n",
              "TechSupport          object\n",
              "StreamingTV          object\n",
              "StreamingMovies      object\n",
              "Contract             object\n",
              "PaperlessBilling     object\n",
              "PaymentMethod        object\n",
              "MonthlyCharges      float64\n",
              "TotalCharges         object\n",
              "Churn                object\n",
              "dtype: object"
            ]
          },
          "metadata": {
            "tags": []
          },
          "execution_count": 2
        }
      ]
    },
    {
      "cell_type": "code",
      "metadata": {
        "id": "dx1aoGQKpabj",
        "colab_type": "code",
        "outputId": "9099235d-0879-4668-e3c7-42d524f876eb",
        "colab": {
          "base_uri": "https://localhost:8080/",
          "height": 432
        }
      },
      "source": [
        "df['TotalCharges'] = df['TotalCharges'].replace(' ', np.NaN) # Replace spaces with NaN\n",
        "\n",
        "df['TotalCharges'] = df['TotalCharges'].astype(float)\n",
        "\n",
        "df.dtypes"
      ],
      "execution_count": 2,
      "outputs": [
        {
          "output_type": "execute_result",
          "data": {
            "text/plain": [
              "customerID           object\n",
              "gender               object\n",
              "SeniorCitizen         int64\n",
              "Partner              object\n",
              "Dependents           object\n",
              "tenure                int64\n",
              "PhoneService         object\n",
              "MultipleLines        object\n",
              "InternetService      object\n",
              "OnlineSecurity       object\n",
              "OnlineBackup         object\n",
              "DeviceProtection     object\n",
              "TechSupport          object\n",
              "StreamingTV          object\n",
              "StreamingMovies      object\n",
              "Contract             object\n",
              "PaperlessBilling     object\n",
              "PaymentMethod        object\n",
              "MonthlyCharges      float64\n",
              "TotalCharges        float64\n",
              "Churn                object\n",
              "dtype: object"
            ]
          },
          "metadata": {
            "tags": []
          },
          "execution_count": 2
        }
      ]
    },
    {
      "cell_type": "code",
      "metadata": {
        "id": "Cd1VV1E_pabq",
        "colab_type": "code",
        "colab": {}
      },
      "source": [
        "# Drop NA values.\n",
        "df = df.dropna()\n",
        "\n",
        "# customerID is irrelevant and will affect model accuracy. Let's drop it.\n",
        "\n",
        "df = df.drop(columns='customerID')"
      ],
      "execution_count": 0,
      "outputs": []
    },
    {
      "cell_type": "code",
      "metadata": {
        "id": "AVVWzbM6pabw",
        "colab_type": "code",
        "outputId": "96f59d45-918a-498d-c38a-b09b59f71e28",
        "colab": {
          "base_uri": "https://localhost:8080/",
          "height": 501
        }
      },
      "source": [
        "df.sample(10)"
      ],
      "execution_count": 5,
      "outputs": [
        {
          "output_type": "execute_result",
          "data": {
            "text/html": [
              "<div>\n",
              "<style scoped>\n",
              "    .dataframe tbody tr th:only-of-type {\n",
              "        vertical-align: middle;\n",
              "    }\n",
              "\n",
              "    .dataframe tbody tr th {\n",
              "        vertical-align: top;\n",
              "    }\n",
              "\n",
              "    .dataframe thead th {\n",
              "        text-align: right;\n",
              "    }\n",
              "</style>\n",
              "<table border=\"1\" class=\"dataframe\">\n",
              "  <thead>\n",
              "    <tr style=\"text-align: right;\">\n",
              "      <th></th>\n",
              "      <th>gender</th>\n",
              "      <th>SeniorCitizen</th>\n",
              "      <th>Partner</th>\n",
              "      <th>Dependents</th>\n",
              "      <th>tenure</th>\n",
              "      <th>PhoneService</th>\n",
              "      <th>MultipleLines</th>\n",
              "      <th>InternetService</th>\n",
              "      <th>OnlineSecurity</th>\n",
              "      <th>OnlineBackup</th>\n",
              "      <th>DeviceProtection</th>\n",
              "      <th>TechSupport</th>\n",
              "      <th>StreamingTV</th>\n",
              "      <th>StreamingMovies</th>\n",
              "      <th>Contract</th>\n",
              "      <th>PaperlessBilling</th>\n",
              "      <th>PaymentMethod</th>\n",
              "      <th>MonthlyCharges</th>\n",
              "      <th>TotalCharges</th>\n",
              "      <th>Churn</th>\n",
              "    </tr>\n",
              "  </thead>\n",
              "  <tbody>\n",
              "    <tr>\n",
              "      <th>2411</th>\n",
              "      <td>Male</td>\n",
              "      <td>0</td>\n",
              "      <td>No</td>\n",
              "      <td>Yes</td>\n",
              "      <td>60</td>\n",
              "      <td>Yes</td>\n",
              "      <td>Yes</td>\n",
              "      <td>DSL</td>\n",
              "      <td>Yes</td>\n",
              "      <td>No</td>\n",
              "      <td>Yes</td>\n",
              "      <td>Yes</td>\n",
              "      <td>Yes</td>\n",
              "      <td>Yes</td>\n",
              "      <td>Two year</td>\n",
              "      <td>Yes</td>\n",
              "      <td>Electronic check</td>\n",
              "      <td>84.95</td>\n",
              "      <td>4984.85</td>\n",
              "      <td>No</td>\n",
              "    </tr>\n",
              "    <tr>\n",
              "      <th>5118</th>\n",
              "      <td>Female</td>\n",
              "      <td>0</td>\n",
              "      <td>Yes</td>\n",
              "      <td>No</td>\n",
              "      <td>42</td>\n",
              "      <td>Yes</td>\n",
              "      <td>Yes</td>\n",
              "      <td>Fiber optic</td>\n",
              "      <td>No</td>\n",
              "      <td>No</td>\n",
              "      <td>Yes</td>\n",
              "      <td>Yes</td>\n",
              "      <td>No</td>\n",
              "      <td>No</td>\n",
              "      <td>Month-to-month</td>\n",
              "      <td>Yes</td>\n",
              "      <td>Credit card (automatic)</td>\n",
              "      <td>85.90</td>\n",
              "      <td>3729.75</td>\n",
              "      <td>No</td>\n",
              "    </tr>\n",
              "    <tr>\n",
              "      <th>5724</th>\n",
              "      <td>Male</td>\n",
              "      <td>0</td>\n",
              "      <td>No</td>\n",
              "      <td>No</td>\n",
              "      <td>1</td>\n",
              "      <td>Yes</td>\n",
              "      <td>No</td>\n",
              "      <td>Fiber optic</td>\n",
              "      <td>No</td>\n",
              "      <td>No</td>\n",
              "      <td>No</td>\n",
              "      <td>No</td>\n",
              "      <td>No</td>\n",
              "      <td>No</td>\n",
              "      <td>Month-to-month</td>\n",
              "      <td>Yes</td>\n",
              "      <td>Mailed check</td>\n",
              "      <td>71.35</td>\n",
              "      <td>71.35</td>\n",
              "      <td>Yes</td>\n",
              "    </tr>\n",
              "    <tr>\n",
              "      <th>4774</th>\n",
              "      <td>Female</td>\n",
              "      <td>0</td>\n",
              "      <td>Yes</td>\n",
              "      <td>No</td>\n",
              "      <td>53</td>\n",
              "      <td>Yes</td>\n",
              "      <td>Yes</td>\n",
              "      <td>Fiber optic</td>\n",
              "      <td>No</td>\n",
              "      <td>No</td>\n",
              "      <td>No</td>\n",
              "      <td>Yes</td>\n",
              "      <td>No</td>\n",
              "      <td>Yes</td>\n",
              "      <td>One year</td>\n",
              "      <td>Yes</td>\n",
              "      <td>Electronic check</td>\n",
              "      <td>91.15</td>\n",
              "      <td>4862.50</td>\n",
              "      <td>No</td>\n",
              "    </tr>\n",
              "    <tr>\n",
              "      <th>1877</th>\n",
              "      <td>Male</td>\n",
              "      <td>0</td>\n",
              "      <td>No</td>\n",
              "      <td>No</td>\n",
              "      <td>72</td>\n",
              "      <td>Yes</td>\n",
              "      <td>Yes</td>\n",
              "      <td>DSL</td>\n",
              "      <td>Yes</td>\n",
              "      <td>Yes</td>\n",
              "      <td>Yes</td>\n",
              "      <td>Yes</td>\n",
              "      <td>Yes</td>\n",
              "      <td>Yes</td>\n",
              "      <td>Two year</td>\n",
              "      <td>No</td>\n",
              "      <td>Credit card (automatic)</td>\n",
              "      <td>88.55</td>\n",
              "      <td>6362.35</td>\n",
              "      <td>No</td>\n",
              "    </tr>\n",
              "    <tr>\n",
              "      <th>131</th>\n",
              "      <td>Female</td>\n",
              "      <td>0</td>\n",
              "      <td>Yes</td>\n",
              "      <td>Yes</td>\n",
              "      <td>25</td>\n",
              "      <td>No</td>\n",
              "      <td>No phone service</td>\n",
              "      <td>DSL</td>\n",
              "      <td>Yes</td>\n",
              "      <td>Yes</td>\n",
              "      <td>Yes</td>\n",
              "      <td>No</td>\n",
              "      <td>Yes</td>\n",
              "      <td>Yes</td>\n",
              "      <td>Month-to-month</td>\n",
              "      <td>Yes</td>\n",
              "      <td>Credit card (automatic)</td>\n",
              "      <td>58.60</td>\n",
              "      <td>1502.65</td>\n",
              "      <td>Yes</td>\n",
              "    </tr>\n",
              "    <tr>\n",
              "      <th>5631</th>\n",
              "      <td>Male</td>\n",
              "      <td>0</td>\n",
              "      <td>Yes</td>\n",
              "      <td>No</td>\n",
              "      <td>3</td>\n",
              "      <td>No</td>\n",
              "      <td>No phone service</td>\n",
              "      <td>DSL</td>\n",
              "      <td>No</td>\n",
              "      <td>No</td>\n",
              "      <td>No</td>\n",
              "      <td>No</td>\n",
              "      <td>No</td>\n",
              "      <td>No</td>\n",
              "      <td>Month-to-month</td>\n",
              "      <td>No</td>\n",
              "      <td>Mailed check</td>\n",
              "      <td>25.00</td>\n",
              "      <td>78.25</td>\n",
              "      <td>No</td>\n",
              "    </tr>\n",
              "    <tr>\n",
              "      <th>4028</th>\n",
              "      <td>Male</td>\n",
              "      <td>0</td>\n",
              "      <td>No</td>\n",
              "      <td>No</td>\n",
              "      <td>63</td>\n",
              "      <td>Yes</td>\n",
              "      <td>No</td>\n",
              "      <td>Fiber optic</td>\n",
              "      <td>Yes</td>\n",
              "      <td>Yes</td>\n",
              "      <td>Yes</td>\n",
              "      <td>Yes</td>\n",
              "      <td>Yes</td>\n",
              "      <td>Yes</td>\n",
              "      <td>Two year</td>\n",
              "      <td>No</td>\n",
              "      <td>Credit card (automatic)</td>\n",
              "      <td>109.20</td>\n",
              "      <td>7049.75</td>\n",
              "      <td>No</td>\n",
              "    </tr>\n",
              "    <tr>\n",
              "      <th>5588</th>\n",
              "      <td>Male</td>\n",
              "      <td>0</td>\n",
              "      <td>No</td>\n",
              "      <td>No</td>\n",
              "      <td>1</td>\n",
              "      <td>Yes</td>\n",
              "      <td>No</td>\n",
              "      <td>DSL</td>\n",
              "      <td>No</td>\n",
              "      <td>No</td>\n",
              "      <td>Yes</td>\n",
              "      <td>No</td>\n",
              "      <td>No</td>\n",
              "      <td>No</td>\n",
              "      <td>Month-to-month</td>\n",
              "      <td>Yes</td>\n",
              "      <td>Mailed check</td>\n",
              "      <td>49.65</td>\n",
              "      <td>49.65</td>\n",
              "      <td>Yes</td>\n",
              "    </tr>\n",
              "    <tr>\n",
              "      <th>3013</th>\n",
              "      <td>Female</td>\n",
              "      <td>0</td>\n",
              "      <td>No</td>\n",
              "      <td>No</td>\n",
              "      <td>29</td>\n",
              "      <td>Yes</td>\n",
              "      <td>Yes</td>\n",
              "      <td>DSL</td>\n",
              "      <td>No</td>\n",
              "      <td>No</td>\n",
              "      <td>No</td>\n",
              "      <td>No</td>\n",
              "      <td>Yes</td>\n",
              "      <td>Yes</td>\n",
              "      <td>One year</td>\n",
              "      <td>Yes</td>\n",
              "      <td>Credit card (automatic)</td>\n",
              "      <td>71.00</td>\n",
              "      <td>2080.10</td>\n",
              "      <td>No</td>\n",
              "    </tr>\n",
              "  </tbody>\n",
              "</table>\n",
              "</div>"
            ],
            "text/plain": [
              "      gender  SeniorCitizen Partner  ... MonthlyCharges  TotalCharges Churn\n",
              "2411    Male              0      No  ...          84.95       4984.85    No\n",
              "5118  Female              0     Yes  ...          85.90       3729.75    No\n",
              "5724    Male              0      No  ...          71.35         71.35   Yes\n",
              "4774  Female              0     Yes  ...          91.15       4862.50    No\n",
              "1877    Male              0      No  ...          88.55       6362.35    No\n",
              "131   Female              0     Yes  ...          58.60       1502.65   Yes\n",
              "5631    Male              0     Yes  ...          25.00         78.25    No\n",
              "4028    Male              0      No  ...         109.20       7049.75    No\n",
              "5588    Male              0      No  ...          49.65         49.65   Yes\n",
              "3013  Female              0      No  ...          71.00       2080.10    No\n",
              "\n",
              "[10 rows x 20 columns]"
            ]
          },
          "metadata": {
            "tags": []
          },
          "execution_count": 5
        }
      ]
    },
    {
      "cell_type": "markdown",
      "metadata": {
        "id": "EXr0TEyxpab3",
        "colab_type": "text"
      },
      "source": [
        "# Baseline Keras Model"
      ]
    },
    {
      "cell_type": "code",
      "metadata": {
        "id": "h2eck1Whpab5",
        "colab_type": "code",
        "outputId": "dcc21e90-c529-48d7-f7be-8d0b74e2fe59",
        "colab": {
          "base_uri": "https://localhost:8080/",
          "height": 54
        }
      },
      "source": [
        "# Imports\n",
        "from sklearn.model_selection import GridSearchCV, train_test_split\n",
        "from sklearn.preprocessing import LabelEncoder\n",
        "from sklearn.preprocessing import StandardScaler\n",
        "from tensorflow.keras.models import Sequential\n",
        "from tensorflow.keras.layers import Dense\n",
        "import tensorflow as tf\n",
        "\n",
        "X = df.drop(columns='Churn')  # Features\n",
        "y = df['Churn']\n",
        "\n",
        "encoder = LabelEncoder()\n",
        "\n",
        "X_enc = X.apply(encoder.fit_transform)\n",
        "y_enc = encoder.fit_transform(y)\n",
        "\n",
        "\n",
        "print('Encoded X Shape:', X_enc.shape)\n",
        "print('Encoded y Shape:', y_enc.shape)"
      ],
      "execution_count": 4,
      "outputs": [
        {
          "output_type": "stream",
          "text": [
            "Encoded X Shape: (7032, 19)\n",
            "Encoded y Shape: (7032,)\n"
          ],
          "name": "stdout"
        }
      ]
    },
    {
      "cell_type": "code",
      "metadata": {
        "id": "oOCRzS1dpacA",
        "colab_type": "code",
        "colab": {}
      },
      "source": [
        "# Scale our data.\n",
        "\n",
        "scaler = StandardScaler()\n",
        "\n",
        "X_scaled = scaler.fit_transform(X_enc)"
      ],
      "execution_count": 0,
      "outputs": []
    },
    {
      "cell_type": "code",
      "metadata": {
        "id": "FsytSaQnpacG",
        "colab_type": "code",
        "outputId": "7df296f6-8d38-4ff5-9cf8-058240b895c2",
        "colab": {
          "base_uri": "https://localhost:8080/",
          "height": 111
        }
      },
      "source": [
        "# Train-Test-Split\n",
        "X_train, X_test, y_train, y_test = train_test_split(X_scaled, y_enc, test_size=0.33, random_state=42)\n",
        "\n",
        "print(f'X_train Shape: {X_train.shape}')\n",
        "print(f'y_train Shape: {y_train.shape}')\n",
        "\n",
        "print('')\n",
        "\n",
        "print(f'X_test Shape: {X_test.shape}')\n",
        "print(f'y_test Shape: {y_test.shape}')"
      ],
      "execution_count": 6,
      "outputs": [
        {
          "output_type": "stream",
          "text": [
            "X_train Shape: (4711, 19)\n",
            "y_train Shape: (4711,)\n",
            "\n",
            "X_test Shape: (2321, 19)\n",
            "y_test Shape: (2321,)\n"
          ],
          "name": "stdout"
        }
      ]
    },
    {
      "cell_type": "code",
      "metadata": {
        "id": "IaxL2wtRpacM",
        "colab_type": "code",
        "colab": {}
      },
      "source": [
        "# Baseline Model\n",
        "\n",
        "bl_model = Sequential([\n",
        "                       Dense(20, activation='relu', input_dim=X_train.shape[1], name='InputLayer'),\n",
        "                       Dense(20, activation='relu', name='Hidden1'),\n",
        "                       Dense(20, activation='relu', name='Hidden2'),\n",
        "                       Dense(1, activation='sigmoid', name='OutputLayer')\n",
        "])\n",
        "\n",
        "bl_model.compile(optimizer='adam', loss='binary_crossentropy', metrics=['accuracy'])\n",
        "\n",
        "bl_model_fit = bl_model.fit(X_train, y_train, epochs=50, verbose=False)"
      ],
      "execution_count": 0,
      "outputs": []
    },
    {
      "cell_type": "code",
      "metadata": {
        "id": "6QyydKJLpacR",
        "colab_type": "code",
        "outputId": "0682e9a4-ed3b-4a2a-e35c-9b41e3573d44",
        "colab": {
          "base_uri": "https://localhost:8080/",
          "height": 294
        }
      },
      "source": [
        "# Check out model performance\n",
        "import matplotlib.pyplot as plt\n",
        "plt.plot(bl_model_fit.history['loss'])\n",
        "plt.title('Baseline Model Performance')\n",
        "plt.xlabel('Number of Epochs')\n",
        "plt.ylabel('Loss')\n",
        "plt.show();"
      ],
      "execution_count": 8,
      "outputs": [
        {
          "output_type": "display_data",
          "data": {
            "image/png": "[encoded data removed]",
            "text/plain": [
              "<Figure size 432x288 with 1 Axes>"
            ]
          },
          "metadata": {
            "tags": [],
            "needs_background": "light"
          }
        }
      ]
    },
    {
      "cell_type": "markdown",
      "metadata": {
        "id": "59WRF50dpacZ",
        "colab_type": "text"
      },
      "source": [
        "# Hyperparameter Tuning"
      ]
    },
    {
      "cell_type": "code",
      "metadata": {
        "id": "B1nNKReTpaca",
        "colab_type": "code",
        "colab": {}
      },
      "source": [
        "from tensorflow.keras.wrappers.scikit_learn import KerasClassifier\n",
        "from tensorflow.keras.layers import Dropout\n",
        "import warnings\n",
        "\n",
        "warnings.filterwarnings(\"ignore\", category=UserWarning)  # Ignore UserWarnings\n",
        "\n",
        "# Create model wrapper\n",
        "def create_model_initial(n_neurons=20, optimizer='adam', learning_rate=0.1,\n",
        "                 activation='relu', init_mode='glorot_uniform',\n",
        "                dropout_rate=0.0):\n",
        "    \n",
        "    # Instantiate Model\n",
        "    model = Sequential()\n",
        "    \n",
        "    # Input Layer\n",
        "    model.add(Dense(n_neurons, activation=activation, \n",
        "                    kernel_initializer=init_mode, \n",
        "                    input_dim=X_train.shape[1], name='InputLayer'))\n",
        "    # Hidden Layers\n",
        "    model.add(Dense(n_neurons, activation=activation))\n",
        "    model.add(Dropout(dropout_rate))\n",
        "    model.add(Dense(n_neurons, activation=activation))\n",
        "    model.add(Dropout(dropout_rate))\n",
        "    \n",
        "    # Output Layer\n",
        "    model.add(Dense(1, activation='sigmoid', name='OutputLayer'))\n",
        "    \n",
        "    # Compile our Model\n",
        "    model.compile(optimizer=optimizer, loss='binary_crossentropy', metrics=['accuracy'])\n",
        "              \n",
        "    return model"
      ],
      "execution_count": 0,
      "outputs": []
    },
    {
      "cell_type": "markdown",
      "metadata": {
        "id": "0NMYljtApacg",
        "colab_type": "text"
      },
      "source": [
        "## Batch Size"
      ]
    },
    {
      "cell_type": "code",
      "metadata": {
        "id": "zXioWKPApacg",
        "colab_type": "code",
        "outputId": "8e140c34-4abe-4845-de77-6999b36b6952",
        "colab": {
          "base_uri": "https://localhost:8080/",
          "height": 35
        }
      },
      "source": [
        "# Define Grid Search Parameters\n",
        "model = KerasClassifier(build_fn=create_model_initial, verbose=False)\n",
        "\n",
        "param_grid = {\n",
        "               'batch_size': [10, 25, 50, 75, 100, 200, 250, 350, 500],\n",
        "               'epochs': [50]\n",
        "             }\n",
        "\n",
        "gridcv = GridSearchCV(estimator=model, param_grid=param_grid, n_jobs=-1, cv=3)\n",
        "gridcv_result = gridcv.fit(X_train, y_train)\n",
        "\n",
        "print(f\"Best: {gridcv_result.best_score_} using {gridcv_result.best_params_}\")\n",
        "batch_size = gridcv_result.best_params_['batch_size']"
      ],
      "execution_count": 10,
      "outputs": [
        {
          "output_type": "stream",
          "text": [
            "Best: 0.7970709800720215 using {'batch_size': 200, 'epochs': 50}\n"
          ],
          "name": "stdout"
        }
      ]
    },
    {
      "cell_type": "markdown",
      "metadata": {
        "id": "R3tbSKQkpacl",
        "colab_type": "text"
      },
      "source": [
        "## Epochs"
      ]
    },
    {
      "cell_type": "code",
      "metadata": {
        "id": "8u7uHwkApacn",
        "colab_type": "code",
        "outputId": "451d047f-7bd2-4ad5-c587-eb8a9f53780f",
        "colab": {
          "base_uri": "https://localhost:8080/",
          "height": 35
        }
      },
      "source": [
        "# Define Grid Search Parameters\n",
        "param_grid = {\n",
        "               'batch_size': [batch_size],\n",
        "               'epochs': [25, 50, 75, 100, 125, 150, 200, 250]\n",
        "}\n",
        "\n",
        "gridcv = GridSearchCV(estimator=model, param_grid=param_grid, n_jobs=-1, cv=3)\n",
        "gridcv_result = gridcv.fit(X_train, y_train)\n",
        "\n",
        "print(f\"Best: {gridcv_result.best_score_} using {gridcv_result.best_params_}\")\n",
        "epochs = gridcv_result.best_params_['epochs']"
      ],
      "execution_count": 11,
      "outputs": [
        {
          "output_type": "stream",
          "text": [
            "Best: 0.7904924949010214 using {'batch_size': 200, 'epochs': 75}\n"
          ],
          "name": "stdout"
        }
      ]
    },
    {
      "cell_type": "markdown",
      "metadata": {
        "id": "HeH8KmrPpacs",
        "colab_type": "text"
      },
      "source": [
        "## Optimizer"
      ]
    },
    {
      "cell_type": "code",
      "metadata": {
        "id": "xUhwSzBepacs",
        "colab_type": "code",
        "outputId": "fac760da-e815-4741-e81a-047d4c9af3e3",
        "colab": {
          "base_uri": "https://localhost:8080/",
          "height": 35
        }
      },
      "source": [
        "# Define Grid Search Parameters\n",
        "param_grid = {\n",
        "               'batch_size': [batch_size],\n",
        "               'epochs': [epochs],\n",
        "               'optimizer': ['adam', 'adamax', 'nadam', 'adagrad', 'adadelta', 'rmsprop']\n",
        "}\n",
        "\n",
        "gridcv = GridSearchCV(estimator=model, param_grid=param_grid, n_jobs=-1, cv=3)\n",
        "gridcv_result = gridcv.fit(X_train, y_train)\n",
        "\n",
        "print(f\"Best: {gridcv_result.best_score_} using {gridcv_result.best_params_}\")\n",
        "optimizer = gridcv_result.best_params_['optimizer']"
      ],
      "execution_count": 12,
      "outputs": [
        {
          "output_type": "stream",
          "text": [
            "Best: 0.793462852636973 using {'batch_size': 200, 'epochs': 75, 'optimizer': 'adamax'}\n"
          ],
          "name": "stdout"
        }
      ]
    },
    {
      "cell_type": "markdown",
      "metadata": {
        "id": "D8qlK4owpac0",
        "colab_type": "text"
      },
      "source": [
        "## Learning Rate"
      ]
    },
    {
      "cell_type": "code",
      "metadata": {
        "id": "ozmQP5Hupac2",
        "colab_type": "code",
        "colab": {}
      },
      "source": [
        "def create_model(n_neurons=20, optimizer='rmsprop', learning_rate=0.1,\n",
        "                 activation='relu', init_mode='glorot_uniform',\n",
        "                dropout_rate=0.0):\n",
        "    \n",
        "    # Instantiate Model\n",
        "    model = Sequential()\n",
        "    \n",
        "    # Input Layer\n",
        "    model.add(Dense(n_neurons, activation=activation, \n",
        "                    kernel_initializer=init_mode, \n",
        "                    input_dim=X_train.shape[1], name='InputLayer'))\n",
        "    # Hidden Layers\n",
        "    model.add(Dense(n_neurons, activation=activation))\n",
        "    model.add(Dropout(dropout_rate))\n",
        "    model.add(Dense(n_neurons, activation=activation))\n",
        "    model.add(Dropout(dropout_rate))\n",
        "    \n",
        "    # Output Layer\n",
        "    model.add(Dense(1, activation='sigmoid', name='OutputLayer'))\n",
        "    \n",
        "    optimizer = tf.optimizers.Adamax(lr=learning_rate)  # This is what I updated.\n",
        "    \n",
        "    # Compile our Model\n",
        "    model.compile(optimizer=optimizer, loss='binary_crossentropy', metrics=['accuracy'])\n",
        "              \n",
        "    return model\n",
        "\n",
        "model = KerasClassifier(build_fn=create_model, verbose=False)  # Build new model"
      ],
      "execution_count": 0,
      "outputs": []
    },
    {
      "cell_type": "code",
      "metadata": {
        "id": "iOJJQzLopac9",
        "colab_type": "code",
        "outputId": "82408be9-07ff-42fc-fabe-8dc0ad2e35a0",
        "colab": {
          "base_uri": "https://localhost:8080/",
          "height": 35
        }
      },
      "source": [
        "# Define Grid Search Parameters\n",
        "param_grid = {\n",
        "               'batch_size': [batch_size],\n",
        "               'epochs': [epochs],\n",
        "               'optimizer': [optimizer],\n",
        "               'learning_rate': [0.001, 0.01, 0.1, 0.2, 0.25, 0.35, 0.45, 0.5]\n",
        "}\n",
        "\n",
        "gridcv = GridSearchCV(estimator=model, param_grid=param_grid, n_jobs=-1, cv=3)\n",
        "gridcv_result = gridcv.fit(X_train, y_train)\n",
        "\n",
        "print(f\"Best: {gridcv_result.best_score_} using {gridcv_result.best_params_}\")\n",
        "learning_rate = gridcv_result.best_params_['learning_rate']"
      ],
      "execution_count": 14,
      "outputs": [
        {
          "output_type": "stream",
          "text": [
            "Best: 0.7966467539469401 using {'batch_size': 200, 'epochs': 75, 'learning_rate': 0.001, 'optimizer': 'adamax'}\n"
          ],
          "name": "stdout"
        }
      ]
    },
    {
      "cell_type": "markdown",
      "metadata": {
        "id": "VHTco_mspadB",
        "colab_type": "text"
      },
      "source": [
        "## Momentum"
      ]
    },
    {
      "cell_type": "code",
      "metadata": {
        "id": "ieZ53k4Lr8MV",
        "colab_type": "code",
        "colab": {}
      },
      "source": [
        "# Not a hyperparameter of Adamax"
      ],
      "execution_count": 0,
      "outputs": []
    },
    {
      "cell_type": "markdown",
      "metadata": {
        "id": "VLbPdO4fpadC",
        "colab_type": "text"
      },
      "source": [
        "## Activation Functions"
      ]
    },
    {
      "cell_type": "code",
      "metadata": {
        "id": "9xthfVjkpadD",
        "colab_type": "code",
        "outputId": "97072c2a-93d0-4273-a1f0-150ae4404a1b",
        "colab": {
          "base_uri": "https://localhost:8080/",
          "height": 35
        }
      },
      "source": [
        "# Define Grid Search Parameters\n",
        "param_grid = {\n",
        "               'batch_size': [batch_size],\n",
        "               'epochs': [epochs],\n",
        "               'optimizer': [optimizer],\n",
        "               'learning_rate': [learning_rate],\n",
        "               'activation': ['relu', 'leakyrelu', 'selu', 'elu']\n",
        "}\n",
        "\n",
        "gridcv = GridSearchCV(estimator=model, param_grid=param_grid, n_jobs=-1, cv=3)\n",
        "gridcv_result = gridcv.fit(X_train, y_train)\n",
        "\n",
        "print(f\"Best: {gridcv_result.best_score_} using {gridcv_result.best_params_}\")\n",
        "activation = gridcv_result.best_params_['activation']"
      ],
      "execution_count": 16,
      "outputs": [
        {
          "output_type": "stream",
          "text": [
            "Best: 0.7987692356109619 using {'activation': 'elu', 'batch_size': 200, 'epochs': 75, 'learning_rate': 0.001, 'optimizer': 'adamax'}\n"
          ],
          "name": "stdout"
        }
      ]
    },
    {
      "cell_type": "markdown",
      "metadata": {
        "id": "Ohi0vGaBpadH",
        "colab_type": "text"
      },
      "source": [
        "## Weight Initialization"
      ]
    },
    {
      "cell_type": "code",
      "metadata": {
        "id": "WAutzHzepadI",
        "colab_type": "code",
        "outputId": "fd4114f2-8d54-4242-9fef-7efe12da4175",
        "colab": {
          "base_uri": "https://localhost:8080/",
          "height": 35
        }
      },
      "source": [
        "# Define Grid Search Parameters\n",
        "param_grid = {\n",
        "               'batch_size': [batch_size],\n",
        "               'epochs': [epochs],\n",
        "               'optimizer': [optimizer],\n",
        "               'learning_rate': [learning_rate],\n",
        "               'activation': [activation],\n",
        "               'init_mode': ['uniform', 'lecun_uniform', 'normal',\n",
        "                            'zero', 'glorot_normal', 'glorot_uniform',\n",
        "                            'he_normal', 'he_uniform']\n",
        "}\n",
        "\n",
        "gridcv = GridSearchCV(estimator=model, param_grid=param_grid, n_jobs=-1, cv=3)\n",
        "gridcv_result = gridcv.fit(X_train, y_train)\n",
        "\n",
        "print(f\"Best: {gridcv_result.best_score_} using {gridcv_result.best_params_}\")\n",
        "init_mode = gridcv_result.best_params_['init_mode']"
      ],
      "execution_count": 17,
      "outputs": [
        {
          "output_type": "stream",
          "text": [
            "Best: 0.8059862852096558 using {'activation': 'elu', 'batch_size': 200, 'epochs': 75, 'init_mode': 'normal', 'learning_rate': 0.001, 'optimizer': 'adamax'}\n"
          ],
          "name": "stdout"
        }
      ]
    },
    {
      "cell_type": "markdown",
      "metadata": {
        "id": "6mXfejUYpadN",
        "colab_type": "text"
      },
      "source": [
        "## Dropout Regularization"
      ]
    },
    {
      "cell_type": "code",
      "metadata": {
        "id": "slmikQnspadN",
        "colab_type": "code",
        "outputId": "553a4b1e-9675-43af-f440-7f6843c37872",
        "colab": {
          "base_uri": "https://localhost:8080/",
          "height": 55
        }
      },
      "source": [
        "# Define Grid Search Parameters\n",
        "param_grid = {\n",
        "               'batch_size': [batch_size],\n",
        "               'epochs': [epochs],\n",
        "               'optimizer': [optimizer],\n",
        "               'learning_rate': [learning_rate],\n",
        "               'activation': [activation],\n",
        "               'init_mode': [init_mode],\n",
        "               'dropout_rate': [0.01, 0.025, 0.3, 0.4, 0.05, 0.1, 0.2]\n",
        "}\n",
        "\n",
        "gridcv = GridSearchCV(estimator=model, param_grid=param_grid, n_jobs=-1, cv=3)\n",
        "gridcv_result = gridcv.fit(X_train, y_train)\n",
        "\n",
        "print(f\"Best: {gridcv_result.best_score_} using {gridcv_result.best_params_}\")\n",
        "dropout_rate = gridcv_result.best_params_['dropout_rate']"
      ],
      "execution_count": 18,
      "outputs": [
        {
          "output_type": "stream",
          "text": [
            "Best: 0.8055615226427714 using {'activation': 'elu', 'batch_size': 200, 'dropout_rate': 0.01, 'epochs': 75, 'init_mode': 'normal', 'learning_rate': 0.001, 'optimizer': 'adamax'}\n"
          ],
          "name": "stdout"
        }
      ]
    },
    {
      "cell_type": "markdown",
      "metadata": {
        "id": "r9dq8IxIpadR",
        "colab_type": "text"
      },
      "source": [
        "## Number of Neurons"
      ]
    },
    {
      "cell_type": "code",
      "metadata": {
        "id": "qx03hJ7PpadS",
        "colab_type": "code",
        "outputId": "510ef73b-175f-4528-dc2d-3c5a89e7f3a0",
        "colab": {
          "base_uri": "https://localhost:8080/",
          "height": 55
        }
      },
      "source": [
        "# Define Grid Search Parameters\n",
        "param_grid = {\n",
        "               'batch_size': [batch_size],\n",
        "               'epochs': [epochs],\n",
        "               'optimizer': [optimizer],\n",
        "               'learning_rate': [learning_rate],\n",
        "               'activation': [activation],\n",
        "               'init_mode': [init_mode],\n",
        "               'dropout_rate': [dropout_rate],\n",
        "               'n_neurons': [25, 50, 75, 100, 125, 150, 200, 250, 500]\n",
        "}\n",
        "\n",
        "gridcv = GridSearchCV(estimator=model, param_grid=param_grid, n_jobs=-1, cv=3)\n",
        "gridcv_result = gridcv.fit(X_train, y_train)\n",
        "\n",
        "print(f\"Best: {gridcv_result.best_score_} using {gridcv_result.best_params_}\")\n",
        "n_neurons = gridcv_result.best_params_['n_neurons']"
      ],
      "execution_count": 19,
      "outputs": [
        {
          "output_type": "stream",
          "text": [
            "Best: 0.8053503036499023 using {'activation': 'elu', 'batch_size': 200, 'dropout_rate': 0.01, 'epochs': 75, 'init_mode': 'normal', 'learning_rate': 0.001, 'n_neurons': 75, 'optimizer': 'adamax'}\n"
          ],
          "name": "stdout"
        }
      ]
    },
    {
      "cell_type": "markdown",
      "metadata": {
        "id": "WAGl_HGHpadZ",
        "colab_type": "text"
      },
      "source": [
        "# Final Results! (Model Evaluation)"
      ]
    },
    {
      "cell_type": "code",
      "metadata": {
        "id": "VvJ1jq6ppadZ",
        "colab_type": "code",
        "outputId": "fea38749-3b2a-448d-fc76-728d0e2e4cb2",
        "colab": {
          "base_uri": "https://localhost:8080/",
          "height": 205
        }
      },
      "source": [
        "model = create_model(n_neurons=n_neurons, optimizer=optimizer, learning_rate=learning_rate,\n",
        "                     activation=activation, init_mode=init_mode, dropout_rate=dropout_rate)\n",
        "\n",
        "model.fit(X_train, y_train, epochs=epochs, verbose=False)\n",
        "\n",
        "model_results = model.evaluate(X_test, y_test, verbose=False)\n",
        "\n",
        "print('Model Accuracy:', f'{round(model_results[1] * 100, 3)}%')\n",
        "print('======================================')\n",
        "print('Achieved With Parameters:')\n",
        "print('Number of Epochs:', epochs)\n",
        "print('Batch Size:', batch_size)\n",
        "print('Optimizer:', optimizer, f'(Learning Rate: {learning_rate})')\n",
        "print('Activation Function:', activation)\n",
        "print('Weight Initialization:', init_mode)\n",
        "print('Dropout Rate:', dropout_rate)\n",
        "print('Number of Neurons:', n_neurons)"
      ],
      "execution_count": 20,
      "outputs": [
        {
          "output_type": "stream",
          "text": [
            "Model Accuracy: 79.449%\n",
            "======================================\n",
            "Achieved With Parameters:\n",
            "Number of Epochs: 75\n",
            "Batch Size: 200\n",
            "Optimizer: adamax (Learning Rate: 0.001)\n",
            "Activation Function: elu\n",
            "Weight Initialization: normal\n",
            "Dropout Rate: 0.01\n",
            "Number of Neurons: 75\n"
          ],
          "name": "stdout"
        }
      ]
    },
    {
      "cell_type": "markdown",
      "metadata": {
        "id": "sZb8thlesxTe",
        "colab_type": "text"
      },
      "source": [
        "# Stretch: Tuning Multiple at Once"
      ]
    },
    {
      "cell_type": "code",
      "metadata": {
        "id": "vfymhXbys01Y",
        "colab_type": "code",
        "colab": {
          "base_uri": "https://localhost:8080/",
          "height": 35
        },
        "outputId": "cde61813-fad8-4cad-eca3-6935829f27d6"
      },
      "source": [
        "# I'm doing this to see how much it affects accuracy. Using RandomizedSearchCV for compute time / resources - GridSearchCV will bring better accuracy, so I'm keeping this in mind.\n",
        "from sklearn.model_selection import RandomizedSearchCV\n",
        "\n",
        "model = KerasClassifier(build_fn=create_model_initial, verbose=False)\n",
        "\n",
        "param_grid = {\n",
        "               'batch_size': [10, 25, 50, 100, 150, 200, 250, 350, 500, 1000],\n",
        "               'epochs': [25, 50, 100, 250],\n",
        "               'optimizer': ['adam', 'adamax', 'nadam', 'adagrad', 'adadelta', 'rmsprop'],\n",
        "               'activation': ['relu', 'leakyrelu', 'selu', 'elu']\n",
        "\n",
        "}\n",
        "\n",
        "rscv = RandomizedSearchCV(estimator=model, param_distributions=param_grid, n_jobs=-1, cv=3)\n",
        "rscv_result = rscv.fit(X_train, y_train, validation_data=(X_test, y_test))  # Validating against test data, next will do a validation split.\n",
        "\n",
        "print(f\"Best: {rscv_result.best_score_} using {rscv_result.best_params_}\")\n",
        "optimizer = rscv_result.best_params_['optimizer']  # I guess an if statement within the model creation function would be the best for making this as seamless as possible as different optimizers have different hyperparameters.\n",
        "epochs = rscv_result.best_params_['epochs']\n",
        "batch_size = rscv_result.best_params_['batch_size']\n",
        "activation = rscv_result.best_params_['activation']"
      ],
      "execution_count": 44,
      "outputs": [
        {
          "output_type": "stream",
          "text": [
            "Best: 0.8000439206759135 using {'optimizer': 'adamax', 'epochs': 100, 'batch_size': 150, 'activation': 'elu'}\n"
          ],
          "name": "stdout"
        }
      ]
    },
    {
      "cell_type": "code",
      "metadata": {
        "id": "078I78xSyecS",
        "colab_type": "code",
        "colab": {
          "base_uri": "https://localhost:8080/",
          "height": 55
        },
        "outputId": "951cec82-ffbc-4ca2-b620-7d5160e46372"
      },
      "source": [
        "model = KerasClassifier(build_fn=create_model, verbose=False)  # Updated to wrapper with learning rate included. Again with the if statement thing stated earlier.\n",
        "\n",
        "param_grid = {\n",
        "               'batch_size': [batch_size],\n",
        "               'epochs': [epochs],\n",
        "               'optimizer': [optimizer],\n",
        "               'activation': [activation],\n",
        "              'init_mode': ['uniform', 'lecun_uniform', 'normal',\n",
        "                            'zero', 'glorot_normal', 'glorot_uniform',\n",
        "                            'he_normal', 'he_uniform'],\n",
        "               'dropout_rate': [0.01, 0.025, 0.3, 0.4, 0.05, 0.1, 0.2],\n",
        "               'learning_rate': [0.0001, 0.001, 0.01, 0.025, 0.05, 0.1, 0.2, 0.25],\n",
        "               'n_neurons': [50, 75, 100, 200, 250, 500, 1000]}\n",
        "\n",
        "rscv = RandomizedSearchCV(estimator=model, param_distributions=param_grid, n_jobs=-1, cv=3)\n",
        "rscv_result = rscv.fit(X_train, y_train, validation_split=0.2)  # Validation split of 20% as a different way to cross-validate here.\n",
        "\n",
        "print(f\"Best: {rscv_result.best_score_} using {rscv_result.best_params_}\")\n",
        "dropout_rate = rscv_result.best_params_['dropout_rate']\n",
        "learning_rate = rscv_result.best_params_['learning_rate']\n",
        "n_neurons = rscv_result.best_params_['n_neurons']\n",
        "init_mode = rscv_result.best_params_['init_mode']"
      ],
      "execution_count": 46,
      "outputs": [
        {
          "output_type": "stream",
          "text": [
            "Best: 0.8013159235318502 using {'optimizer': 'adamax', 'n_neurons': 50, 'learning_rate': 0.0001, 'init_mode': 'glorot_uniform', 'epochs': 100, 'dropout_rate': 0.025, 'batch_size': 150, 'activation': 'elu'}\n"
          ],
          "name": "stdout"
        }
      ]
    },
    {
      "cell_type": "markdown",
      "metadata": {
        "id": "Ghxq98VM5ni-",
        "colab_type": "text"
      },
      "source": [
        "## Stretch Model Evaluation"
      ]
    },
    {
      "cell_type": "code",
      "metadata": {
        "id": "4CFjX1n00S-N",
        "colab_type": "code",
        "colab": {
          "base_uri": "https://localhost:8080/",
          "height": 205
        },
        "outputId": "ca7509dd-1112-487d-cb78-33356c6a549a"
      },
      "source": [
        "model = create_model(n_neurons=n_neurons, optimizer=optimizer, learning_rate=learning_rate,\n",
        "                     activation=activation, init_mode=init_mode, dropout_rate=dropout_rate)\n",
        "\n",
        "model.fit(X_train, y_train, epochs=epochs, verbose=False)\n",
        "\n",
        "model_results = model.evaluate(X_test, y_test, verbose=False)\n",
        "\n",
        "\n",
        "# Previous Model Accuracy: 79.449% having used GridSearchCV, which to re-iterate, inherently grants better accuracy (also longer compute time & resources)\n",
        "print('Model Accuracy:', f'{round(model_results[1] * 100, 3)}%')\n",
        "print('======================================')\n",
        "print('Achieved With Parameters:')\n",
        "print('Number of Epochs:', epochs)\n",
        "print('Batch Size:', batch_size)\n",
        "print('Optimizer:', optimizer, f'(Learning Rate: {learning_rate})')\n",
        "print('Activation Function:', activation)\n",
        "print('Weight Initialization:', init_mode)\n",
        "print('Dropout Rate:', dropout_rate)\n",
        "print('Number of Neurons:', n_neurons)"
      ],
      "execution_count": 47,
      "outputs": [
        {
          "output_type": "stream",
          "text": [
            "Model Accuracy: 80.741%\n",
            "======================================\n",
            "Achieved With Parameters:\n",
            "Number of Epochs: 100\n",
            "Batch Size: 150\n",
            "Optimizer: adamax (Learning Rate: 0.0001)\n",
            "Activation Function: elu\n",
            "Weight Initialization: glorot_uniform\n",
            "Dropout Rate: 0.025\n",
            "Number of Neurons: 50\n"
          ],
          "name": "stdout"
        }
      ]
    },
    {
      "cell_type": "markdown",
      "metadata": {
        "colab_type": "text",
        "id": "FfZRtJ7MCN3x"
      },
      "source": [
        "## Stretch Goals:\n",
        "\n",
        "- Try to implement Random Search Hyperparameter Tuning on this dataset ✔\n",
        "- Try to implement Bayesian Optimiation tuning on this dataset using hyperas or hyperopt (if you're brave)\n",
        "- Practice hyperparameter tuning other datasets that we have looked at. How high can you get MNIST? Above 99%?\n",
        "- Study for the Sprint Challenge ✔\n",
        " - Can you implement both perceptron and MLP models from scratch with forward and backpropagation? ✔\n",
        " - Can you implement both perceptron and MLP models in keras and tune their hyperparameters with cross validation? ✔"
      ]
    }
  ]
}